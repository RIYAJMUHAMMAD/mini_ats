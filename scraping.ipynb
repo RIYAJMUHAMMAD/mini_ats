{
 "cells": [
  {
   "cell_type": "code",
   "execution_count": 1,
   "metadata": {},
   "outputs": [
    {
     "data": {
      "text/plain": [
       "<!DOCTYPE html>\n",
       "<html lang=\"en\"><head><meta charset=\"utf-8\"/><meta content=\"text/html; charset=utf-8\" http-equiv=\"Content-Type\"/><meta content=\"en_US\" http-equiv=\"Content-Language\"/><meta content=\"notranslate\" name=\"google\"/><meta content=\"width=device-width, initial-scale=1, minimum-scale=1, maximum-scale=1\" name=\"viewport\"/><title>Lead NLP Scientist at SproutsAI • San Francisco Bay Area • Europe • India • Remote (Work from Home) | Wellfound (formerly AngelList Talent)</title><script src=\"/cdn-cgi/apps/head/JIiAUxCYLtpv-hVKsQ6mzsTHfds.js\"></script><link href=\"https://wellfound.com/jobs/2844964-lead-nlp-scientist\" rel=\"canonical\"/><meta content=\"SproutsAI is hiring a Lead NLP Scientist in Europe, India, United States, London, Zurich, Berlin, Edinburgh, Dublin, San Francisco Bay Area, Asia, Athens, Berlin, and Latino América - Apply now on Wellfound (formerly AngelList Talent)! **Position Summary **\n",
       "\n",
       "The NLP platform is the core virtual platform...\" name=\"description\"/><meta content=\"Wellfound (formerly AngelList Talent)\" property=\"og:site_name\"/><meta content=\"https://photos.wellfound.com/startups/i/6103237-24b07cc72114cfaa55d3862a2015f5ac-thumb_jpg.jpg?buster=1669698116\" property=\"og:image\"/><meta content=\"https://wellfound.com/jobs/2844964-lead-nlp-scientist\" property=\"og:url\"/><meta content=\"Lead NLP Scientist at SproutsAI • San Francisco Bay Area • Europe • India • Remote (Work from Home)\" property=\"og:title\"/><meta content=\"SproutsAI is hiring a Lead NLP Scientist in Europe, India, United States, London, Zurich, Berlin, Edinburgh, Dublin, San Francisco Bay Area, Asia, Athens, Berlin, and Latino América - Apply now on Wellfound (formerly AngelList Talent)! **Position Summary **\n",
       "\n",
       "The NLP platform is the core virtual platform...\" property=\"og:description\"/><script type=\"application/ld+json\">{\"@context\":\"http://schema.org/\",\"@type\":\"JobPosting\",\"title\":\"Lead NLP Scientist\",\"identifier\":{\"@type\":\"PropertyValue\",\"name\":\"SproutsAI\",\"value\":\"2844964-lead-nlp-scientist\"},\"employmentType\":\"FULL_TIME\",\"hiringOrganization\":{\"@type\":\"Organization\",\"name\":\"SproutsAI\",\"sameAs\":\"https://www.sproutsai.com\",\"logo\":\"https://photos.wellfound.com/startups/i/6103237-24b07cc72114cfaa55d3862a2015f5ac-medium_jpg.jpg?buster=1669698116\"},\"validThrough\":\"2024-03-17T11:01:16Z\",\"image\":\"https://photos.wellfound.com/startups/i/6103237-24b07cc72114cfaa55d3862a2015f5ac-medium_jpg.jpg?buster=1669698116\",\"industry\":\"Artificial Intelligence\",\"directApply\":true,\"description\":\"<p>*<em>Position Summary *</em></p>\\n\\n<p>The NLP platform is the core virtual platform powering the vision of delivering the world’s best and fully autonomous intelligent agent to our users. The  person needs to be passionate about NLP to helps in building the platform  from the ground up. Join us in the early stage and you will have an enormous opportunity to make a massive impact on the design, architecture, and implementation of the platform, to power thousands of companies and millions of customers across the globe.</p>\\n\\n<p>As part of the startup, you will also have the additional opportunity of working directly with the customers and the executive team.</p>\\n\\n<p>Minimum Qualifications</p>\\n\\n<ul>\\n<li>An NLP Expert, ideally a Ph D in NLP, with several years of experience in  building and shipping  NLP and AI products for the enterprise customers</li>\\n<li>The position requires building next generation of AI Agent. The person needs to have hands-on development experience in C++, Python and other programming language.</li>\\n<li>The person should be expert in building, training, evaluation and deployment of AI models.</li>\\n<li>The strong background in math, statistics is a plus.</li>\\n<li>The person should be passionate about building and growing an startup.  This job requires passionate individuals who are self motivated, can challenge themself   and thrive under the pressure.</li>\\n<li>Excellent oral and written communication skills.</li>\\n</ul>\\n\\n<p>*<em>Preferred Qualifications *</em></p>\\n\\n<ul>\\n<li>Strong attention to detail and exceptional level of organization</li>\\n<li>Hands-on expertise in many disparate technologies and the full model lifecycle, typically ranging from data pipelines, data extraction, model training, model serving, labeling tools, ML-ops, ad-hoc tooling and all points in between.</li>\\n<li>MS/PhD in a relevant field (Machine Learning, Computer Science, Engineering, Mathematics, Physics, Statistics or a related field)</li>\\n</ul>\\n<p>SproutsAI focuses on Artificial Intelligence. Their company has offices in San Francisco Bay Area. They have a small team that&#39;s between 11-50 employees. To date, SproutsAI has raised $1M of funding; their latest round was closed on June 2022.</p>\\n<p>You can view their website at <a target=\\\"_blank\\\" rel=\\\"nofollow noopener noreferrer\\\" href=\\\"https://www.sproutsai.com\\\">https://www.sproutsai.com</a>  or find them on <a target=\\\"_blank\\\" rel=\\\"nofollow noopener noreferrer\\\" href=\\\"https://www.linkedin.com/company/sproutsintellibot/\\\">LinkedIn</a>.</p>\",\"datePosted\":\"2024-01-20T02:24:23Z\",\"jobLocation\":{\"@type\":\"Place\",\"address\":{\"@type\":\"PostalAddress\",\"addressLocality\":\"Edinburgh\",\"addressRegion\":\"Scotland\",\"addressCountry\":\"United Kingdom\"},\"latitude\":55.9533,\"longitude\":-3.18827},\"jobLocationType\":\"TELECOMMUTE\",\"applicantLocationRequirements\":{\"@type\":\"Country\",\"name\":\"Anywhere\"},\"experienceRequirements\":{\"@type\":\"OccupationalExperienceRequirements\",\"monthsOfExperience\":60},\"baseSalary\":{\"@type\":\"MonetaryAmount\",\"currency\":\"USD\",\"value\":{\"@type\":\"QuantitativeValue\",\"unitText\":\"YEAR\",\"minValue\":30000.0,\"maxValue\":100000.0}}}</script><meta content=\"summary\" name=\"twitter:card\"/><meta content=\"@wellfoundhq\" name=\"twitter:site\"/><meta content=\"@wellfoundhq\" name=\"twitter:creator\"/><link href=\"/images/icons/wellfound.ico\" rel=\"shortcut icon\"/><link href=\"/images/icons/wellfound-favicon-57x.png\" rel=\"apple-touch-icon-precomposed\" sizes=\"57x57\"/><link href=\"/images/icons/wellfound-favicon-72x.png\" rel=\"apple-touch-icon-precomposed\" sizes=\"72x72\"/><link href=\"/images/icons/wellfound-favicon-114x.png\" rel=\"apple-touch-icon-precomposed\" sizes=\"114x114\"/><link href=\"/images/icons/wellfound-favicon-144x.png\" rel=\"apple-touch-icon-precomposed\" sizes=\"144x144\"/><meta content=\"22\" name=\"next-head-count\"/><link href=\"https://cdn.segment.com\" rel=\"preconnect\"/><link as=\"style\" crossorigin=\"anonymous\" href=\"/talent/_next/static/css/6a32a8941d557454.css\" rel=\"preload\"/><link crossorigin=\"anonymous\" data-n-g=\"\" href=\"/talent/_next/static/css/6a32a8941d557454.css\" rel=\"stylesheet\"/><link as=\"style\" crossorigin=\"anonymous\" href=\"/talent/_next/static/css/e811bb08e514e704.css\" rel=\"preload\"/><link crossorigin=\"anonymous\" data-n-p=\"\" href=\"/talent/_next/static/css/e811bb08e514e704.css\" rel=\"stylesheet\"/><link as=\"style\" crossorigin=\"anonymous\" href=\"/talent/_next/static/css/0411bb0c769319de.css\" rel=\"preload\"/><link crossorigin=\"anonymous\" data-n-p=\"\" href=\"/talent/_next/static/css/0411bb0c769319de.css\" rel=\"stylesheet\"/><noscript data-n-css=\"\"></noscript></head><body class=\"route--JobListing\"><div data-reactroot=\"\" id=\"__next\"><div id=\"main\"><header class=\"mx-auto mb-8 max-w-screen-xl border-b border-gray-300 px-6 pb-6 pt-4 lg:px-20\"><div class=\"flex flex-row items-center justify-between\"><a aria-label=\"Wellfound\" class=\"styles_component__UCLp3 styles_defaultLink__eZMqw flex items-center mr-4\" href=\"/\"><svg class=\"w-30 text-black\" fill=\"currentColor\" viewbox=\"0 0 554.89997 266.70002\" width=\"50\"><path d=\"M 80.9,263.59999 0,2.9999988 H 75.3 L 123,190.39999 174.9,2.9999988 h 75.5 L 302.3,190.39999 350,2.9999988 h 75.3 L 343.5,263.59999 H 263.3 L 212.7,75.399999 161.1,263.59999 H 80.9 Z\"></path><circle cx=\"511.09995\" cy=\"222.89999\" fill=\"#EC2E3A\" r=\"43.799999\"></circle><circle cx=\"511.09995\" cy=\"43.799999\" fill=\"#EC2E3A\" r=\"43.799999\"></circle></svg></a><nav class=\"relative hidden items-center bg-white md:flex\"><button class=\"styles_component__7ZpRT absolute right-2 hidden\" type=\"button\"></button><div class=\"r-0 relative hidden space-x-8 font-light md:block\"><a class=\"styles_component__UCLp3 styles_defaultLink__eZMqw !text-black underline-offset-8 hover:!text-dark-link underline\" href=\"/discover\">Discover</a><a class=\"styles_component__UCLp3 styles_defaultLink__eZMqw !text-black underline-offset-8 hover:!text-dark-link\" href=\"/jobs\">Find Jobs</a><a class=\"styles_component__UCLp3 styles_defaultLink__eZMqw !text-black underline-offset-8 hover:!text-dark-link\" href=\"/recruit/overview\">For Recruiters</a></div><div class=\"ml-10\"><div class=\"inline-block\"><button class=\"rounded border-solid border gap-x-2 whitespace-nowrap font-medium antialiased text-center text-sm no-underline cursor-pointer focus:outline-0 disabled:cursor-default disabled:pointer-events-none disabled:opacity-50 transition duration-200 px-4 py-2 bg-white border-black text-black disabled:bg-white disabled:border-gray-700 disabled:text-gray-700 hover:bg-gtmblue-100 hover:border-gtmblue-500 hover:text-gtmblue-500\" onclick=\"window.location.href='/login?after_sign_in=%2Fjobs%3Fjob_listing_id%3D2844964'\">Log In</button></div><div class=\"inline-block\"><button class=\"ml-4 rounded border-solid border gap-x-2 whitespace-nowrap font-medium antialiased text-center text-sm no-underline cursor-pointer focus:outline-0 disabled:cursor-default disabled:pointer-events-none disabled:opacity-50 transition duration-200 px-4 py-2 bg-black border-black text-white disabled:bg-gray-400 disabled:border-gray-400 disabled:text-gray-700 hover:bg-gtmblue-500 hover:border-gtmblue-500\" onclick=\"window.location.href='/jobs/signup?source_content=global_header_join_text'\">Sign Up</button></div></div></nav></div></header><div class=\"mx-auto max-w-screen-laptop px-4 lg:p-0\" data-test=\"JobListing\"><div><div class=\"flex w-full flex-col border-b border-gray-300 sm:flex-row\"><div class=\"w-full sm:w-2/3\"><div><h1 class=\"inline text-xl font-semibold text-black\">Lead NLP Scientist</h1><span class=\"text-xl font-medium text-gray-500\"> <!-- -->(5+ years exp)</span></div><div class=\"mt-2 text-lg font-medium text-gray-800\">$30k – $100k • 0.01% – 0.02%</div><div class=\"mb-4 mt-1 text-sm font-medium text-gray-600\">Published: <!-- -->1 week ago</div></div><div class=\"mb-4 flex w-full justify-center sm:mb-0 sm:w-1/3 sm:justify-end\"><div class=\"inline-block mr-4\"><button class=\"mr-4 h-12 w-full rounded border-solid border gap-x-2 whitespace-nowrap font-medium antialiased text-center text-sm no-underline cursor-pointer focus:outline-0 disabled:cursor-default disabled:pointer-events-none disabled:opacity-50 transition duration-200 px-4 py-2 bg-white border-black text-black disabled:bg-white disabled:border-gray-700 disabled:text-gray-700 hover:bg-gtmblue-100 hover:border-gtmblue-500 hover:text-gtmblue-500\" onclick=\"window.location.href='/jobs/signup?after_action=save_job&amp;job_listing=2844964&amp;source=job+listing&amp;source_content=save_job_button'\">Save</button></div><div class=\"inline-block h-12 w-full md:w-44\"><button class=\"h-12 w-full rounded border-solid border gap-x-2 whitespace-nowrap font-medium antialiased text-center text-sm no-underline cursor-pointer focus:outline-0 disabled:cursor-default disabled:pointer-events-none disabled:opacity-50 transition duration-200 px-4 py-2 bg-black border-black text-white disabled:bg-gray-400 disabled:border-gray-400 disabled:text-gray-700 hover:bg-gtmblue-500 hover:border-gtmblue-500\" onclick=\"window.location.href='/jobs/2844964-lead-nlp-scientist?autoOpenApplication=true'\">Apply Now</button></div></div></div><div class=\"mt-4 border-b border-gray-300 pb-7\"><div class=\"mb-5 flex\"><a href=\"/company/sproutsai\" rel=\"noopener noreferrer\" target=\"_blank\"><div class=\"relative inline-flex h-14 w-14 flex-row items-center rounded-md\"><img alt=\"Avatar for SproutsAI\" class=\"rounded-2xl\" height=\"56\" src=\"/cdn-cgi/image/width=112,height=112,fit=scale-down,gravity=0.5x0.5,quality=90,format=auto/https://photos.wellfound.com/startups/i/6103237-24b07cc72114cfaa55d3862a2015f5ac-medium_jpg.jpg\" width=\"56\"/></div></a><div class=\"ml-4\"><a href=\"/company/sproutsai\" rel=\"noopener noreferrer\" target=\"_blank\"><h2 class=\"mt-1 text-lg font-bold text-black underline\">SproutsAI</h2></a><div class=\"mt-1 text-md font-medium text-black\">Autonomous Agent for the virtual world</div></div></div><div class=\"flex flex-col space-y-4 sm:flex-row sm:space-x-8 sm:space-y-0\"><div class=\"flex\"><img alt=\"image\" class=\"h-6 w-6\" height=\"24\" src=\"/cdn-cgi/image/width=48,height=48,fit=scale-down,gravity=0.5x0.5,quality=90,format=auto/images/talent/jobs/MapIcon.svg\" width=\"24\"/><a class=\"ml-2 flex items-center text-sm font-normal text-black underline\" href=\"/location/san-francisco-bay-area\" rel=\"noopener noreferrer\" target=\"_blank\">San Francisco Bay Area</a><div class=\"ml-4 flex\"><img alt=\"image\" class=\"h-6 w-6\" height=\"24\" src=\"/cdn-cgi/image/width=48,height=48,fit=scale-down,gravity=0.5x0.5,quality=90,format=auto/images/talent/jobs/CompanySizeIcon.svg\" width=\"24\"/><span class=\"ml-2 flex items-center text-sm font-normal\">11-50</span></div></div><div class=\"flex flex-wrap\"><img alt=\"image\" height=\"24\" src=\"/cdn-cgi/image/width=48,height=48,fit=scale-down,gravity=0.5x0.5,quality=90,format=auto/images/talent/jobs/MarketsIcon.svg\" width=\"24\"/><a class=\"ml-2 rounded-3xl bg-gray-200 px-2 py-1 text-sm font-normal text-black underline\" href=\"/startups/industry/artificial-intelligence\" rel=\"noopener noreferrer\" target=\"_blank\">Artificial Intelligence</a></div><a class=\"mt-7 flex items-center text-sm font-normal text-black\" href=\"/company/sproutsai/jobs\" rel=\"noopener noreferrer\" target=\"_blank\">See all jobs at <!-- -->SproutsAI<!-- --> <img alt=\"image\" height=\"20\" src=\"/cdn-cgi/image/width=40,height=40,fit=scale-down,gravity=0.5x0.5,quality=90,format=auto/images/talent/jobs/ArrowRight.svg\" width=\"20\"/></a></div></div><div class=\"space-y-6 border-b border-gray-300 pb-6 pt-6\"><div><h3 class=\"text-md font-semibold\">Location</h3><div class=\"flex flex-wrap\"><div><a class=\"text-sm font-normal text-black underline\" href=\"/location/europe\" rel=\"noopener noreferrer\" target=\"_blank\">Europe</a></div><div><span> - </span><a class=\"text-sm font-normal text-black underline\" href=\"/location/india\" rel=\"noopener noreferrer\" target=\"_blank\">India</a></div><div><span> - </span><a class=\"text-sm font-normal text-black underline\" href=\"/location/united-states\" rel=\"noopener noreferrer\" target=\"_blank\">United States</a></div><div><span> - </span><a class=\"text-sm font-normal text-black underline\" href=\"/location/london\" rel=\"noopener noreferrer\" target=\"_blank\">London</a></div><div><span> - </span><a class=\"text-sm font-normal text-black underline\" href=\"/location/zurich\" rel=\"noopener noreferrer\" target=\"_blank\">Zurich</a></div><div><span> - </span><a class=\"text-sm font-normal text-black underline\" href=\"/location/berlin\" rel=\"noopener noreferrer\" target=\"_blank\">Berlin</a></div><div><span> - </span><a class=\"text-sm font-normal text-black underline\" href=\"/location/edinburgh\" rel=\"noopener noreferrer\" target=\"_blank\">Edinburgh</a></div><div><span> - </span><a class=\"text-sm font-normal text-black underline\" href=\"/location/dublin\" rel=\"noopener noreferrer\" target=\"_blank\">Dublin</a></div><div><span> - </span><a class=\"text-sm font-normal text-black underline\" href=\"/location/san-francisco-bay-area\" rel=\"noopener noreferrer\" target=\"_blank\">San Francisco Bay Area</a></div><div><span> - </span><a class=\"text-sm font-normal text-black underline\" href=\"/location/asia\" rel=\"noopener noreferrer\" target=\"_blank\">Asia</a></div><div><span> - </span><a class=\"text-sm font-normal text-black underline\" href=\"/location/athens-greece\" rel=\"noopener noreferrer\" target=\"_blank\">Athens</a></div><div><span> - </span><a class=\"text-sm font-normal text-black underline\" href=\"/location/berlin-31763\" rel=\"noopener noreferrer\" target=\"_blank\">Berlin</a></div><div><span> - </span><a class=\"text-sm font-normal text-black underline\" href=\"/location/latino-america\" rel=\"noopener noreferrer\" target=\"_blank\">Latino América</a></div></div></div><div><h3 class=\"text-md font-semibold\">Job Type</h3>Full Time</div><div><h3 class=\"text-md font-semibold\">Visa Sponsorship</h3><span>Not Available</span></div><div><h3 class=\"text-md font-semibold\">Remote Work Policy</h3>Remote only</div><div><h3 class=\"text-md font-semibold\">Preferred Timezones</h3><div class=\"flex flex-wrap\"><div><span>Hawaii</span></div><div><span>, </span><span>Pacific Time</span></div><div><span>, </span><span>Mountain Time</span></div><div><span>, </span><span>Central Time</span></div><div><span>, </span><span>Eastern Time</span></div><div><span>, </span><span>Azores</span></div><div><span>, </span><span>Central European Time</span></div><div><span>, </span><span>Eastern European Time</span></div><div><span>, </span><span>Indochina Time</span></div><div><span>, </span><span>Auckland, Wellington</span></div></div></div><div><h3 class=\"text-md font-semibold\">Relocation</h3><span class=\"flex items-center\">Allowed<span class=\"ml-1\"><svg class=\"haloIcon w-4 max-w-full\" fill=\"currentColor\" viewbox=\"0 0 24 24\" xmlns=\"http://www.w3.org/2000/svg\"><path clip-rule=\"evenodd\" d=\"M13.178 2.279c.51.255.924.668 1.18 1.179l7.363 14.728A2.636 2.636 0 0119.364 22H4.636a2.636 2.636 0 01-2.358-3.814L9.642 3.458a2.636 2.636 0 013.536-1.18zm-1.94 2.193L4.09 18.766A.852.852 0 004.853 20h14.294a.853.853 0 00.763-1.234L12.763 4.472a.852.852 0 00-1.526 0zM12 16a1 1 0 110 2 1 1 0 010-2zm0-8a1 1 0 011 1v4a1 1 0 11-2 0V9a1 1 0 011-1z\" fill=\"currentColor\" fill-rule=\"evenodd\"></path></svg></span></span></div><div><h3 class=\"text-md font-semibold\">Skills</h3><div class=\"flex flex-wrap space-x-2\"><div class=\"rounded-3xl bg-gray-200 px-2 py-1 text-sm font-normal text-black\">Python</div><div class=\"rounded-3xl bg-gray-200 px-2 py-1 text-sm font-normal text-black\">NLP</div></div></div><div><h3 class=\"text-md font-semibold\">Hiring contact</h3><a class=\"text-sm font-normal text-black underline\" href=\"/u/niraj-rai\" rel=\"noopener noreferrer\" target=\"_blank\">Niraj Rai</a></div><div class=\"border-t border-gray-300 pt-6\"><h3 class=\"mb-2 text-md font-semibold\">The Role</h3><div class=\"relative\"><div class=\"styles_description__o_yxO inline-block text-black\" id=\"job-description\"><p>*<em>Position Summary *</em></p>\n",
       "<p>The NLP platform is the core virtual platform powering the vision of delivering the world’s best and fully autonomous intelligent agent to our users. The  person needs to be passionate about NLP to helps in building the platform  from the ground up. Join us in the early stage and you will have an enormous opportunity to make a massive impact on the design, architecture, and implementation of the platform, to power thousands of companies and millions of customers across the globe.</p>\n",
       "<p>As part of the startup, you will also have the additional opportunity of working directly with the customers and the executive team.</p>\n",
       "<p>Minimum Qualifications</p>\n",
       "<ul>\n",
       "<li>An NLP Expert, ideally a Ph D in NLP, with several years of experience in  building and shipping  NLP and AI products for the enterprise customers</li>\n",
       "<li>The position requires building next generation of AI Agent. The person needs to have hands-on development experience in C++, Python and other programming language.</li>\n",
       "<li>The person should be expert in building, training, evaluation and deployment of AI models.</li>\n",
       "<li>The strong background in math, statistics is a plus.</li>\n",
       "<li>The person should be passionate about building and growing an startup.  This job requires passionate individuals who are self motivated, can challenge themself   and thrive under the pressure.</li>\n",
       "<li>Excellent oral and written communication skills.</li>\n",
       "</ul>\n",
       "<p>*<em>Preferred Qualifications *</em></p>\n",
       "<ul>\n",
       "<li>Strong attention to detail and exceptional level of organization</li>\n",
       "<li>Hands-on expertise in many disparate technologies and the full model lifecycle, typically ranging from data pipelines, data extraction, model training, model serving, labeling tools, ML-ops, ad-hoc tooling and all points in between.</li>\n",
       "<li>MS/PhD in a relevant field (Machine Learning, Computer Science, Engineering, Mathematics, Physics, Statistics or a related field)</li>\n",
       "</ul>\n",
       "</div></div><div class=\"inline-block !block\"><button class=\"mx-auto mt-6 block h-12 w-full md:w-44 rounded border-solid border gap-x-2 whitespace-nowrap font-medium antialiased text-center text-sm no-underline cursor-pointer focus:outline-0 disabled:cursor-default disabled:pointer-events-none disabled:opacity-50 transition duration-200 px-4 py-2 bg-black border-black text-white disabled:bg-gray-400 disabled:border-gray-400 disabled:text-gray-700 hover:bg-gtmblue-500 hover:border-gtmblue-500\" onclick=\"window.location.href='/jobs/2844964-lead-nlp-scientist?autoOpenApplication=true'\">Apply Now</button></div></div></div></div><div class=\"border-t border-gray-300 py-6\"><h3 class=\"text-lg font-semibold\">More about <!-- -->SproutsAI</h3><div class=\"mb-8 grid gap-x-4 gap-y-4 pt-8 sm:grid-cols-3\"><div class=\"relative h-[300px] rounded-lg border border-gray-400 p-4\"><a href=\"/company/sproutsai/funding\" rel=\"noopener noreferrer\" target=\"_blank\"><h3 class=\"text-lg font-semibold text-black\">Funding</h3></a><div class=\"mt-4 flex rounded-lg bg-jobs-purple p-4 text-center\"><div class=\"w-1/2 border-r border-white\"><div class=\"text-xs text-gray-400\">AMOUNT RAISED</div><div class=\"text-lg font-semibold text-white\">$1M</div></div><div class=\"w-1/2 border-l border-white\"><div class=\"text-xs text-gray-400\">FUNDED OVER</div><div class=\"text-lg font-semibold text-white\">1<!-- --> <!-- -->round</div></div></div><div class=\"mt-4 text-lg font-semibold\">Round</div><div class=\"mt-4 flex\"><div class=\"styles_component__Lh22T styles_medium__XQhxx my-auto styles_preSeed__WzSx_\">PRE</div><span class=\"ml-2 text-xl font-semibold\">$1,000,000</span></div><div class=\"text-s ml-1 mt-4 font-normal\"><span>Pre-Seed</span> <span class=\"ml-4\">Jun 2022</span></div><a href=\"/company/sproutsai/funding\" rel=\"noopener noreferrer\" target=\"_blank\"><img alt=\"image\" class=\"absolute bottom-4 right-4 h-5 w-5\" height=\"20\" src=\"/cdn-cgi/image/width=40,height=40,fit=scale-down,gravity=0.5x0.5,quality=90,format=auto/images/talent/jobs/ArrowRight.svg\" width=\"20\"/></a></div><div class=\"relative rounded-lg border border-gray-400 p-4 sm:col-start-1 sm:col-end-4\"><a href=\"/company/sproutsai/people\" rel=\"noopener noreferrer\" target=\"_blank\"><h3 class=\"text-lg font-semibold text-black\">Founders</h3></a><div class=\"x mt-6 flex flex-col space-y-4 sm:flex-row sm:flex-wrap sm:space-x-4 sm:space-y-0\"><div class=\"flex rounded-lg border border-gray-400 p-4 sm:w-[calc(33%_-_11px)]\"><div><a class=\"text-lg font-semibold text-black\" href=\"/u/niraj-rai\" rel=\"noopener noreferrer nofollow\">Niraj Rai</a><div class=\"text-md font-normal\"><span>Founder</span><span> • <!-- -->3 years</span><span> • <!-- -->6 years</span></div><div class=\"text-sm font-normal\">Palo Alto</div></div><div class=\"my-auto ml-auto\"><a href=\"/u/niraj-rai\" rel=\"noopener noreferrer nofollow\" target=\"_blank\"><img alt=\"image\" class=\"h-14 w-14 rounded-[32px]\" height=\"56\" src=\"/cdn-cgi/image/width=112,height=112,fit=scale-down,gravity=0.5x0.5,quality=90,format=auto/https://photos.wellfound.com/users/29103-medium_jpg\" width=\"56\"/></a></div></div></div><a class=\"mt-7 flex justify-center text-black\" href=\"/company/sproutsai/people\" rel=\"noopener noreferrer\" target=\"_blank\">Go to team <img alt=\"image\" height=\"20\" src=\"/cdn-cgi/image/width=40,height=40,fit=scale-down,gravity=0.5x0.5,quality=90,format=auto/images/talent/jobs/ArrowRight.svg\" width=\"20\"/></a></div></div></div><div class=\"border-t border-gray-300 py-6\"><h3 class=\"text-lg font-semibold\">Similar Jobs</h3><div class=\"mt-6 grid gap-x-4 gap-y-4 sm:grid-cols-3\"><div class=\"rounded-lg border border-gray-400 sm:relative sm:min-h-[353px]\"><div class=\"\"><div class=\"h-12\" style=\"background-color:#EAEBFF;opacity:0.25\"></div><a class=\"relative -top-8 left-4\" href=\"/company/tookitaki\" rel=\"noopener noreferrer\" target=\"_blank\"><img alt=\"Tookitaki company logo\" class=\"\" height=\"64\" loading=\"lazy\" src=\"/cdn-cgi/image/width=128,height=128,fit=contain,gravity=0.5x0.5,quality=90,format=auto/https://photos.wellfound.com/startups/i/161691-edea3c792e0c7fd849528989e4ca2a26-medium_jpg.jpg\" width=\"64\"/></a><div class=\"-mt-6 px-4\"><a class=\"text-md font-semibold text-black\" href=\"/company/tookitaki\" rel=\"noopener noreferrer\" target=\"_blank\">Tookitaki</a><div class=\"text-md font-normal text-gray-800 sm:line-clamp-3\">Tookitaki provides software solutions to enable sustainable regulatory compliance program</div></div></div><div class=\"mx-4 mt-2 rounded-md border border-gray-400\"><a href=\"/jobs/9588-lead-datascience-singapore\" rel=\"noopener noreferrer\" target=\"_blank\"><div class=\"p-4\"><div class=\"text-md font-medium text-black\">Lead Datascience, Singapore</div><div class=\"text-md font-normal text-black\">$84k – $108k • 0.1% – 0.15%</div></div></a></div><div class=\"my-4 w-full px-4 sm:absolute sm:bottom-0\"><div class=\"inline-block w-full\"><button class=\"styles_component__Ov6jE w-full rounded border-solid border gap-x-2 whitespace-nowrap font-medium antialiased text-center text-sm no-underline cursor-pointer focus:outline-0 disabled:cursor-default disabled:pointer-events-none disabled:opacity-50 transition duration-200 px-4 py-2 bg-black border-black text-white disabled:bg-gray-400 disabled:border-gray-400 disabled:text-gray-700 hover:bg-gtmblue-500 hover:border-gtmblue-500\" onclick=\"window.location.href='/jobs/9588-lead-datascience-singapore?autoOpenApplication=true'\">Apply</button></div></div></div><div class=\"rounded-lg border border-gray-400 sm:relative sm:min-h-[353px]\"><div class=\"\"><div class=\"h-12\" style=\"background-color:#EAEBFF;opacity:0.25\"></div><a class=\"relative -top-8 left-4\" href=\"/company/crowdkeep\" rel=\"noopener noreferrer\" target=\"_blank\"><img alt=\"Crowdkeep company logo\" class=\"\" height=\"64\" loading=\"lazy\" src=\"/cdn-cgi/image/width=128,height=128,fit=contain,gravity=0.5x0.5,quality=90,format=auto/https://photos.wellfound.com/startups/i/322748-7a661f9792e41654e01fba71c9b2adf0-medium_jpg.jpg\" width=\"64\"/></a><div class=\"-mt-6 px-4\"><a class=\"text-md font-semibold text-black\" href=\"/company/crowdkeep\" rel=\"noopener noreferrer\" target=\"_blank\">Crowdkeep</a><div class=\"text-md font-normal text-gray-800 sm:line-clamp-3\">We believe in the better way of doing things</div></div></div><div class=\"mx-4 mt-2 rounded-md border border-gray-400\"><a href=\"/jobs/24362-lead-data-scientist\" rel=\"noopener noreferrer\" target=\"_blank\"><div class=\"p-4\"><div class=\"text-md font-medium text-black\">Lead Data Scientist</div><div class=\"text-md font-normal text-black\">$60k – $120k</div></div></a></div><div class=\"my-4 w-full px-4 sm:absolute sm:bottom-0\"><div class=\"inline-block w-full\"><button class=\"styles_component__Ov6jE w-full rounded border-solid border gap-x-2 whitespace-nowrap font-medium antialiased text-center text-sm no-underline cursor-pointer focus:outline-0 disabled:cursor-default disabled:pointer-events-none disabled:opacity-50 transition duration-200 px-4 py-2 bg-black border-black text-white disabled:bg-gray-400 disabled:border-gray-400 disabled:text-gray-700 hover:bg-gtmblue-500 hover:border-gtmblue-500\" onclick=\"window.location.href='/jobs/24362-lead-data-scientist?autoOpenApplication=true'\">Apply</button></div></div></div><div class=\"rounded-lg border border-gray-400 sm:relative sm:min-h-[353px]\"><div class=\"\"><div class=\"h-12\" style=\"background-color:#EAEBFF;opacity:0.25\"></div><a class=\"relative -top-8 left-4\" href=\"/company/urbanwand\" rel=\"noopener noreferrer\" target=\"_blank\"><img alt=\"Urbanwand company logo\" class=\"\" height=\"64\" loading=\"lazy\" src=\"/cdn-cgi/image/width=128,height=128,fit=contain,gravity=0.5x0.5,quality=90,format=auto/https://photos.wellfound.com/startups/i/642767-33404203a27b76e7b45e56a66cf11b9f-medium_jpg.jpg\" width=\"64\"/></a><div class=\"-mt-6 px-4\"><a class=\"text-md font-semibold text-black\" href=\"/company/urbanwand\" rel=\"noopener noreferrer\" target=\"_blank\">Urbanwand</a><div class=\"text-md font-normal text-gray-800 sm:line-clamp-3\">Revolutionizing the way Retail happens - Disruptive Innovation</div></div></div><div class=\"mx-4 mt-2 rounded-md border border-gray-400\"><a href=\"/jobs/57681-architect-lead-engineer\" rel=\"noopener noreferrer\" target=\"_blank\"><div class=\"p-4\"><div class=\"text-md font-medium text-black\">Architect/Lead Engineer</div><div class=\"text-md font-normal text-black\">₹6L – ₹8L • 0.0% – 1.5%</div></div></a></div><div class=\"my-4 w-full px-4 sm:absolute sm:bottom-0\"><div class=\"inline-block w-full\"><button class=\"styles_component__Ov6jE w-full rounded border-solid border gap-x-2 whitespace-nowrap font-medium antialiased text-center text-sm no-underline cursor-pointer focus:outline-0 disabled:cursor-default disabled:pointer-events-none disabled:opacity-50 transition duration-200 px-4 py-2 bg-black border-black text-white disabled:bg-gray-400 disabled:border-gray-400 disabled:text-gray-700 hover:bg-gtmblue-500 hover:border-gtmblue-500\" onclick=\"window.location.href='/jobs/57681-architect-lead-engineer?autoOpenApplication=true'\">Apply</button></div></div></div><div class=\"rounded-lg border border-gray-400 sm:relative sm:min-h-[353px]\"><div class=\"\"><div class=\"h-12\" style=\"background-color:#EAEBFF;opacity:0.25\"></div><a class=\"relative -top-8 left-4\" href=\"/company/composable-analytics\" rel=\"noopener noreferrer\" target=\"_blank\"><img alt=\"Composable Analytics company logo\" class=\"\" height=\"64\" loading=\"lazy\" src=\"/cdn-cgi/image/width=128,height=128,fit=contain,gravity=0.5x0.5,quality=90,format=auto/https://photos.wellfound.com/startups/i/582305-c9d1a07bdb0740fafa878c6013395508-medium_jpg.jpg\" width=\"64\"/></a><div class=\"-mt-6 px-4\"><a class=\"text-md font-semibold text-black\" href=\"/company/composable-analytics\" rel=\"noopener noreferrer\" target=\"_blank\">Composable Analytics</a><div class=\"text-md font-normal text-gray-800 sm:line-clamp-3\">Intelligent DataOps</div></div></div><div class=\"mx-4 mt-2 rounded-md border border-gray-400\"><a href=\"/jobs/99230-big-data-software-engineer\" rel=\"noopener noreferrer\" target=\"_blank\"><div class=\"p-4\"><div class=\"text-md font-medium text-black\">Big Data Software Engineer</div><div class=\"text-md font-normal text-black\">$50k – $130k • 0.0% – 0.25%</div></div></a></div><div class=\"my-4 w-full px-4 sm:absolute sm:bottom-0\"><div class=\"inline-block w-full\"><button class=\"styles_component__Ov6jE w-full rounded border-solid border gap-x-2 whitespace-nowrap font-medium antialiased text-center text-sm no-underline cursor-pointer focus:outline-0 disabled:cursor-default disabled:pointer-events-none disabled:opacity-50 transition duration-200 px-4 py-2 bg-black border-black text-white disabled:bg-gray-400 disabled:border-gray-400 disabled:text-gray-700 hover:bg-gtmblue-500 hover:border-gtmblue-500\" onclick=\"window.location.href='/jobs/99230-big-data-software-engineer?autoOpenApplication=true'\">Apply</button></div></div></div><div class=\"rounded-lg border border-gray-400 sm:relative sm:min-h-[353px]\"><div class=\"\"><div class=\"h-12\" style=\"background-color:#EAEBFF;opacity:0.25\"></div><a class=\"relative -top-8 left-4\" href=\"/company/rax-1\" rel=\"noopener noreferrer\" target=\"_blank\"><img alt=\"Crimson Interactive company logo\" class=\"\" height=\"64\" loading=\"lazy\" src=\"/cdn-cgi/image/width=128,height=128,fit=contain,gravity=0.5x0.5,quality=90,format=auto/https://photos.wellfound.com/startups/i/1068788-60fb85f01d2fdfc4bad8cdea81f269d4-medium_jpg.jpg\" width=\"64\"/></a><div class=\"-mt-6 px-4\"><a class=\"text-md font-semibold text-black\" href=\"/company/rax-1\" rel=\"noopener noreferrer\" target=\"_blank\">Crimson Interactive</a><div class=\"text-md font-normal text-gray-800 sm:line-clamp-3\">AI powered literature analysis and comprehension tool for researchers</div></div></div><div class=\"mx-4 mt-2 rounded-md border border-gray-400\"><a href=\"/jobs/127869-senior-research-engineer-re-2\" rel=\"noopener noreferrer\" target=\"_blank\"><div class=\"p-4\"><div class=\"text-md font-medium text-black\">Senior Research Engineer (RE-2)</div><div class=\"text-md font-normal text-black\">₹18L – ₹25L</div></div></a></div><div class=\"my-4 w-full px-4 sm:absolute sm:bottom-0\"><div class=\"inline-block w-full\"><button class=\"styles_component__Ov6jE w-full rounded border-solid border gap-x-2 whitespace-nowrap font-medium antialiased text-center text-sm no-underline cursor-pointer focus:outline-0 disabled:cursor-default disabled:pointer-events-none disabled:opacity-50 transition duration-200 px-4 py-2 bg-black border-black text-white disabled:bg-gray-400 disabled:border-gray-400 disabled:text-gray-700 hover:bg-gtmblue-500 hover:border-gtmblue-500\" onclick=\"window.location.href='/jobs/127869-senior-research-engineer-re-2?autoOpenApplication=true'\">Apply</button></div></div></div><div class=\"rounded-lg border border-gray-400 sm:relative sm:min-h-[353px]\"><div class=\"\"><div class=\"h-12\" style=\"background-color:#EAEBFF;opacity:0.25\"></div><a class=\"relative -top-8 left-4\" href=\"/company/home-automation-laboratories\" rel=\"noopener noreferrer\" target=\"_blank\"><img alt=\"Home Automation Laboratories company logo\" class=\"\" height=\"64\" loading=\"lazy\" src=\"/cdn-cgi/image/width=128,height=128,fit=contain,gravity=0.5x0.5,quality=90,format=auto/https://photos.wellfound.com/startups/i/1300186-09b78b60eb7b5929ed8395e20426ddbd-medium_jpg.jpg\" width=\"64\"/></a><div class=\"-mt-6 px-4\"><a class=\"text-md font-semibold text-black\" href=\"/company/home-automation-laboratories\" rel=\"noopener noreferrer\" target=\"_blank\">Home Automation Laboratories</a><div class=\"text-md font-normal text-gray-800 sm:line-clamp-3\">Marketplace</div></div></div><div class=\"mx-4 mt-2 rounded-md border border-gray-400\"><a href=\"/jobs/151477-sas\" rel=\"noopener noreferrer\" target=\"_blank\"><div class=\"p-4\"><div class=\"text-md font-medium text-black\">SAS</div><div class=\"text-md font-normal text-black\">₹10L – ₹15L • 1.0% – 2.0%</div></div></a></div><div class=\"my-4 w-full px-4 sm:absolute sm:bottom-0\"><div class=\"inline-block w-full\"><button class=\"styles_component__Ov6jE w-full rounded border-solid border gap-x-2 whitespace-nowrap font-medium antialiased text-center text-sm no-underline cursor-pointer focus:outline-0 disabled:cursor-default disabled:pointer-events-none disabled:opacity-50 transition duration-200 px-4 py-2 bg-black border-black text-white disabled:bg-gray-400 disabled:border-gray-400 disabled:text-gray-700 hover:bg-gtmblue-500 hover:border-gtmblue-500\" onclick=\"window.location.href='/jobs/151477-sas?autoOpenApplication=true'\">Apply</button></div></div></div><div class=\"rounded-lg border border-gray-400 sm:relative sm:min-h-[353px]\"><div class=\"\"><div class=\"h-12\" style=\"background-color:#EAEBFF;opacity:0.25\"></div><a class=\"relative -top-8 left-4\" href=\"/company/valiance-solutions\" rel=\"noopener noreferrer\" target=\"_blank\"><img alt=\"Valiance Solutions company logo\" class=\"\" height=\"64\" loading=\"lazy\" src=\"/cdn-cgi/image/width=128,height=128,fit=contain,gravity=0.5x0.5,quality=90,format=auto/https://photos.wellfound.com/startups/i/545060-6f2fd77f79c303fe4cc9457934a30026-medium_jpg.jpg\" width=\"64\"/></a><div class=\"-mt-6 px-4\"><a class=\"text-md font-semibold text-black\" href=\"/company/valiance-solutions\" rel=\"noopener noreferrer\" target=\"_blank\">Valiance Solutions</a><div class=\"text-md font-normal text-gray-800 sm:line-clamp-3\">Transform businesses with data analysis &amp; artificial intelligence</div></div></div><div class=\"mx-4 mt-2 rounded-md border border-gray-400\"><a href=\"/jobs/246110-data-scientist\" rel=\"noopener noreferrer\" target=\"_blank\"><div class=\"p-4\"><div class=\"text-md font-medium text-black\">Data Scientist</div><div class=\"text-md font-normal text-black\">₹10L – ₹20L • No equity</div></div></a></div><div class=\"my-4 w-full px-4 sm:absolute sm:bottom-0\"><div class=\"inline-block w-full\"><button class=\"styles_component__Ov6jE w-full rounded border-solid border gap-x-2 whitespace-nowrap font-medium antialiased text-center text-sm no-underline cursor-pointer focus:outline-0 disabled:cursor-default disabled:pointer-events-none disabled:opacity-50 transition duration-200 px-4 py-2 bg-black border-black text-white disabled:bg-gray-400 disabled:border-gray-400 disabled:text-gray-700 hover:bg-gtmblue-500 hover:border-gtmblue-500\" onclick=\"window.location.href='/jobs/246110-data-scientist?autoOpenApplication=true'\">Apply</button></div></div></div><div class=\"rounded-lg border border-gray-400 sm:relative sm:min-h-[353px]\"><div class=\"\"><div class=\"h-12\" style=\"background-color:#EAEBFF;opacity:0.25\"></div><a class=\"relative -top-8 left-4\" href=\"/company/open-health-network\" rel=\"noopener noreferrer\" target=\"_blank\"><img alt=\"Open Health Network company logo\" class=\"\" height=\"64\" loading=\"lazy\" src=\"/cdn-cgi/image/width=128,height=128,fit=contain,gravity=0.5x0.5,quality=90,format=auto/https://photos.wellfound.com/startups/i/171649-cfb40c06a43a7934d949a0b897b8dd6a-medium_jpg.jpg\" width=\"64\"/></a><div class=\"-mt-6 px-4\"><a class=\"text-md font-semibold text-black\" href=\"/company/open-health-network\" rel=\"noopener noreferrer\" target=\"_blank\">Open Health Network</a><div class=\"text-md font-normal text-gray-800 sm:line-clamp-3\">Integrated AI powered continuous care framework for chronic disease management</div></div></div><div class=\"mx-4 mt-2 rounded-md border border-gray-400\"><a href=\"/jobs/287460-ai-ml-data-scientist-in-dc-area-for-hot-silicon-valley-funded-startup-4-positions\" rel=\"noopener noreferrer\" target=\"_blank\"><div class=\"p-4\"><div class=\"text-md font-medium text-black\">AI/ML Data Scientist in DC area for hot Silicon Valley funded startup !- 4 positions!</div><div class=\"text-md font-normal text-black\">$120k – $200k • 0.02% – 0.09%</div></div></a></div><div class=\"my-4 w-full px-4 sm:absolute sm:bottom-0\"><div class=\"inline-block w-full\"><button class=\"styles_component__Ov6jE w-full rounded border-solid border gap-x-2 whitespace-nowrap font-medium antialiased text-center text-sm no-underline cursor-pointer focus:outline-0 disabled:cursor-default disabled:pointer-events-none disabled:opacity-50 transition duration-200 px-4 py-2 bg-black border-black text-white disabled:bg-gray-400 disabled:border-gray-400 disabled:text-gray-700 hover:bg-gtmblue-500 hover:border-gtmblue-500\" onclick=\"window.location.href='/jobs/287460-ai-ml-data-scientist-in-dc-area-for-hot-silicon-valley-funded-startup-4-positions?autoOpenApplication=true'\">Apply</button></div></div></div><div class=\"rounded-lg border border-gray-400 sm:relative sm:min-h-[353px]\"><div class=\"\"><div class=\"h-12\" style=\"background-color:#EAEBFF;opacity:0.25\"></div><a class=\"relative -top-8 left-4\" href=\"/company/nanonets\" rel=\"noopener noreferrer\" target=\"_blank\"><img alt=\"Nanonets company logo\" class=\"\" height=\"64\" loading=\"lazy\" src=\"/cdn-cgi/image/width=128,height=128,fit=contain,gravity=0.5x0.5,quality=90,format=auto/https://photos.wellfound.com/startups/i/3188382-5e4530caea54a59f8b54356af13b39ed-medium_jpg.jpg\" width=\"64\"/></a><div class=\"-mt-6 px-4\"><a class=\"text-md font-semibold text-black\" href=\"/company/nanonets\" rel=\"noopener noreferrer\" target=\"_blank\">Nanonets</a><div class=\"text-md font-normal text-gray-800 sm:line-clamp-3\">Automating manual processes using AI</div></div></div><div class=\"mx-4 mt-2 rounded-md border border-gray-400\"><a href=\"/jobs/288689-deep-learning-engineer\" rel=\"noopener noreferrer\" target=\"_blank\"><div class=\"p-4\"><div class=\"text-md font-medium text-black\">Deep Learning Engineer</div><div class=\"text-md font-normal text-black\">₹20L – ₹70L • 0.0% – 0.1%</div></div></a></div><div class=\"my-4 w-full px-4 sm:absolute sm:bottom-0\"><div class=\"inline-block w-full\"><button class=\"styles_component__Ov6jE w-full rounded border-solid border gap-x-2 whitespace-nowrap font-medium antialiased text-center text-sm no-underline cursor-pointer focus:outline-0 disabled:cursor-default disabled:pointer-events-none disabled:opacity-50 transition duration-200 px-4 py-2 bg-black border-black text-white disabled:bg-gray-400 disabled:border-gray-400 disabled:text-gray-700 hover:bg-gtmblue-500 hover:border-gtmblue-500\" onclick=\"window.location.href='/jobs/288689-deep-learning-engineer?autoOpenApplication=true'\">Apply</button></div></div></div></div></div></div><footer class=\"border-t border-gray-400 px-10 py-10 md:px-20 md:py-20\"><div class=\"mx-auto flex max-w-screen-xl flex-col justify-between lg:flex-row\"><div class=\"mb-6 mr-14\"><a class=\"mb-4 mr-2 mt-1 flex pl-2 md:pl-0\" href=\"/\"><svg class=\"w-[200px] fill-current text-black hover:text-gtmblue-500\" fill=\"currentColor\" viewbox=\"0 0 716.1 179.8\" width=\"120\"><g transform=\"translate(-157.7 -156.2)\"><path d=\"M369.4 235v-64.8h-17.1v-14h34.3V235h16.9v14h-51.2v-14zM430.6 235v-64.8h-17v-14h34.3V235h16.9v14h-51.2v-14zM485.3 249v-54H469v-14h16.3v-5.5c0-12.5 6.5-19.2 19.9-19.2h19.3V170H508c-4.2 0-5.9 1.8-5.9 5.9v5h22.4v14h-22.2v54h-17zM564.6 180.2c-20.7 0-34.7 14-34.7 34.8 0 20.9 14 34.8 34.7 34.8 20.8 0 34.8-13.9 34.8-34.8s-14-34.8-34.8-34.8zm0 55.4c-10.4 0-17.2-8.6-17.2-20.7 0-12 6.8-20.7 17.2-20.7 10.5 0 17.3 8.6 17.3 20.7 0 12.2-6.8 20.7-17.3 20.7zM656.9 181H674v68h-16.7v-8.3c-4.3 5.1-10.3 9.1-19.8 9.1-13.8 0-26.3-7.1-26.3-30.4V181h17.1v37c0 11.3 4.1 17.6 13.5 17.6s15.1-6.9 15.1-19.2V181ZM817.2 156.2v32.9c-4.3-5.3-11-9-20.2-9-17.9 0-31.7 13.7-31.7 34.7 0 21.7 13.3 34.9 31.4 34.9 9.9 0 16.6-4.7 21-10.6v9.8h16.7v-92.7zm-17.1 79.4c-10.6 0-17.4-8.5-17.4-20.7 0-12.1 6.8-20.7 17.4-20.7 10.5 0 17.3 8.5 17.3 20.8 0 12.2-6.8 20.6-17.3 20.6zM178.8 249l-21.1-68h19.6l12.5 48.9 13.5-48.9H223l13.5 48.9L249 181h19.6l-21.4 68h-20.9l-13.2-49.1-13.3 49.1Z\"></path><circle cx=\"862.4\" cy=\"238.3\" fill=\"#EC2E3A\" r=\"11.4\"></circle><circle cx=\"862.4\" cy=\"191.6\" fill=\"#EC2E3A\" r=\"11.4\"></circle><path d=\"M342.2 218.9c.3-2.1.5-4.6.5-6.2-.2-20-13.6-32.6-33.4-32.6-20.4 0-34 13.8-34 34.9 0 21 13.4 34.7 35.2 34.7 17.6 0 29.1-10.5 31.2-23.8h-16.9c-1.7 6.8-7.2 10.5-15 10.5-9.8 0-16.3-6.5-16.7-16.8v-.8h49.1zm-32.9-25.7c8.6 0 14.5 4.8 16 13.6h-31.7c1.2-8.4 7.6-13.6 15.7-13.6zM707.8 249h-17.1v-68h16.7v8.3c4.3-5.1 10.3-9.1 19.8-9.1 13.8 0 26.3 7.1 26.3 30.4V249h-17.1v-37.1c0-11.3-4.1-17.6-13.5-17.6s-15.1 6.9-15.1 19.2zM177.7 299.6h-4.2v-3.9h4.2v-4.8c0-6 2.9-9.5 8.8-9.5 1.5 0 2.3.2 3.5.6v3.9c-.8-.3-2-.6-3.3-.6-3 0-4.3 2.1-4.3 5.1v5.3h7.2v3.9h-7.2v25.5h-4.7zM192.5 310.6v-.5c0-8.8 6.1-15 14.5-15 8.3 0 14.5 6.1 14.5 15v.5c0 8.9-6.1 15-14.5 15s-14.5-6.4-14.5-15zm24.1 0v-.4c0-6.8-3.8-11.2-9.6-11.2-5.9 0-9.6 4.4-9.6 11.2v.5c0 6.7 3.7 11.1 9.6 11.1 5.9-.1 9.6-4.5 9.6-11.2zM228.7 295.6h4.7v5.3c1.9-3.3 4.4-5.6 9.7-5.8v4.4c-5.9.3-9.7 2.1-9.7 9.4v16.2h-4.7zM249.9 295.6h4.7v4.5c1.4-2.8 4.6-5 8.8-5 3.8 0 7.1 1.6 8.6 5.5 2-3.8 6.4-5.5 10.1-5.5 5.3 0 9.9 3.2 9.9 11.7V325h-4.7v-18.6c0-5.2-2.2-7.3-6.3-7.3-3.8 0-7.8 2.6-7.8 7.9v18h-4.7v-18.6c0-5.2-2.2-7.3-6.3-7.3-3.8 0-7.8 2.6-7.8 7.9v18h-4.7v-29.4zM299 310.7v-.5c0-8.9 5.7-15.1 13.8-15.1 6.8 0 13.2 4.1 13.2 14.6v1.5h-22.2c.2 6.7 3.4 10.4 9.5 10.4 4.6 0 7.2-1.7 7.8-5.1h4.7c-1 5.9-5.9 9-12.6 9-8.3.1-14.2-5.7-14.2-14.8zm22.2-3.2c-.4-6.1-3.6-8.5-8.4-8.5-4.8 0-8 3.3-8.8 8.5zM333.2 295.6h4.7v5.3c1.9-3.3 4.4-5.6 9.7-5.8v4.4c-5.9.3-9.7 2.1-9.7 9.4v16.2h-4.7zM354.5 284.8h4.7v40.3h-4.7zM377 322.1l-11.5-26.4h5l9 21.1 8.2-21.1h4.8l-16.3 39.7h-4.7zM422.2 284.8h9.8l13.3 40.3h-7.8l-3.2-10H419l-3.2 10h-7zm-1.5 24.9h11.9l-5.9-18.7ZM450.9 295.6h6.8v4.7c1.4-2.9 4.7-5.3 9.5-5.3 5.9 0 10.1 3.4 10.1 11.5V325h-6.8v-17.9c0-4.4-1.8-6.5-5.9-6.5-3.8 0-6.9 2.4-6.9 7v17.3h-6.8zM483.5 326.1h6.9c.6 2.9 2.8 4.6 7.3 4.6 5.3 0 8.2-2.6 8.2-7.9v-4.3c-1.6 2.8-5.3 5.5-9.6 5.5-7.4 0-13.1-5.5-13.1-14v-.4c0-8.3 5.6-14.5 13.2-14.5 4.8 0 7.8 2.2 9.5 5.1v-4.5h6.8V323c-.1 8.7-5.9 13-15 13-9.2-.1-13.4-4.2-14.2-9.9zm22.6-16.4v-.4c0-5.6-3-8.9-7.9-8.9-5.1 0-8 3.7-8 9v.5c0 5.5 3.4 8.8 7.8 8.8 4.6 0 8.1-3.4 8.1-9zM518.8 310.7v-.5c0-9.1 6.3-15.2 14.6-15.2 7.3 0 13.9 4.3 13.9 14.9v2h-21.6c.2 5.6 3 8.7 8.1 8.7 4.1 0 6.3-1.6 6.8-4.5h6.6c-1 6.2-6 9.6-13.5 9.6-8.6 0-14.9-5.7-14.9-15zm21.8-3.4c-.3-5.1-2.9-7.3-7.2-7.3-4.1 0-6.9 2.8-7.5 7.3zM553.6 284.8h6.8v40.3h-6.8zM569.3 284.8h7.5v34.3H594v6h-24.7zM599.2 286.9c0-2.3 1.8-3.9 4.1-3.9s4.1 1.7 4.1 3.9-1.8 3.9-4.1 3.9-4.1-1.7-4.1-3.9zm.7 8.7h6.8v29.5h-6.8zM612.8 315.9h6.4c.3 3 1.9 4.7 5.9 4.7 3.7 0 5.3-1.3 5.3-3.8 0-2.4-2-3.3-6.3-4.1-7.8-1.2-10.6-3.4-10.6-9 0-5.9 5.5-8.8 11-8.8 6 0 10.8 2.3 11.5 8.9h-6.3c-.6-2.7-2.1-3.9-5.2-3.9-2.9 0-4.7 1.4-4.7 3.5s1.4 3 6.1 3.8c6.9 1.1 11 2.8 11 9 0 6-4.2 9.4-11.8 9.4-7.6.1-12.1-3.4-12.3-9.7zM644 316.9v-16.1h-4v-5.1h3.9v-6.5h6.8v6.5h6.5v5.1h-6.5v15.5c0 2.6 1.2 3.8 3.4 3.8 1.4 0 2.4-.2 3.3-.6v5.4c-1.1.4-2.5.7-4.6.7-5.8 0-8.8-3.1-8.8-8.7zM685.6 290.7h-11.2v-5.9h30v5.9h-11.2v34.4h-7.5v-34.4zM704.1 316.9c0-6.9 6.6-9.3 15.1-9.3h3.7v-1.5c0-3.9-1.4-5.9-5.4-5.9-3.5 0-5.3 1.7-5.6 4.6h-6.6c.6-6.9 6-9.7 12.6-9.7s11.8 2.7 11.8 10.8v19.3H723v-3.6c-1.9 2.5-4.5 4.2-9 4.2-5.5-.1-9.9-2.7-9.9-8.9zm18.7-2.1v-2.9h-3.5c-5.2 0-8.5 1.2-8.5 4.8 0 2.5 1.4 4.1 4.7 4.1 4.2 0 7.3-2.2 7.3-6zM737.6 284.8h6.8v40.3h-6.8zM750.8 310.7v-.5c0-9.1 6.3-15.2 14.6-15.2 7.3 0 13.9 4.3 13.9 14.9v2h-21.6c.2 5.6 3 8.7 8.1 8.7 4.1 0 6.3-1.6 6.8-4.5h6.6c-1 6.2-6 9.6-13.5 9.6-8.7 0-14.9-5.7-14.9-15zm21.8-3.4c-.3-5.1-2.9-7.3-7.2-7.3-4.1 0-6.9 2.8-7.5 7.3zM785.4 295.6h6.8v4.7c1.4-2.9 4.7-5.3 9.5-5.3 5.9 0 10.1 3.4 10.1 11.5V325H805v-17.9c0-4.4-1.8-6.5-5.9-6.5-3.8 0-6.9 2.4-6.9 7v17.3h-6.8zM820.8 316.9v-16.1h-3.9v-5.1h3.9v-6.5h6.8v6.5h6.5v5.1h-6.5v15.5c0 2.6 1.2 3.8 3.4 3.8 1.4 0 2.4-.2 3.3-.6v5.4c-1.1.4-2.5.7-4.6.7-5.9 0-8.9-3.1-8.9-8.7z\"></path></g></svg></a><div class=\"flex\"><a class=\"mr-2 h-8 w-8\" href=\"http://twitter.com/wellfoundhq\" rel=\"noreferrer nofollow\" target=\"_blank\"><svg class=\"w-8 fill-current text-black hover:text-gtmblue-500\" fill=\"currentColor\" viewbox=\"0 0 24 24\" xmlns=\"http://www.w3.org/2000/svg\"><path clip-rule=\"evenodd\" d=\"M19.944 7.987c.013.175.013.35.013.525C19.957 13.85 15.833 20 8.294 20c-2.322 0-4.48-.663-6.294-1.813.33.038.647.05.99.05 1.916 0 3.68-.637 5.089-1.724-1.802-.038-3.313-1.2-3.833-2.8.254.037.508.062.774.062.368 0 .736-.05 1.079-.138-1.878-.375-3.287-2-3.287-3.962v-.05c.546.3 1.18.488 1.853.512a4.02 4.02 0 01-1.827-3.362c0-.75.203-1.438.558-2.038a11.71 11.71 0 008.452 4.225 4.495 4.495 0 01-.102-.924c0-2.226 1.828-4.038 4.1-4.038 1.18 0 2.245.487 2.994 1.275a8.145 8.145 0 002.602-.975 4.038 4.038 0 01-1.802 2.225A8.316 8.316 0 0022 5.9a8.74 8.74 0 01-2.056 2.087z\" fill=\"currentColor\" fill-rule=\"evenodd\"></path></svg></a><a class=\"mr-2\" href=\"https://instagram.com/wellfoundhq\" rel=\"noreferrer nofollow\" target=\"_blank\"><svg class=\"w-8 fill-current text-black hover:text-gtmblue-500\" fill=\"currentColor\" viewbox=\"0 0 24 24\" xmlns=\"http://www.w3.org/2000/svg\"><path clip-rule=\"evenodd\" d=\"M7.833 2h8.334C19.375 2 22 4.625 22 7.833v8.334C22 19.375 19.375 22 16.167 22H7.833C4.625 22 2 19.375 2 16.167V7.833C2 4.625 4.625 2 7.833 2zM19.11 4.89a4.16 4.16 0 00-2.943-1.224H7.833A4.13 4.13 0 004.89 4.89a4.16 4.16 0 00-1.224 2.943v8.333A4.13 4.13 0 004.89 19.11a4.16 4.16 0 002.943 1.224h8.334a4.13 4.13 0 002.942-1.224 4.16 4.16 0 001.224-2.943V7.833A4.13 4.13 0 0019.11 4.89z\" fill=\"currentColor\" fill-rule=\"evenodd\"></path><path clip-rule=\"evenodd\" d=\"M17.416 7.834c-.692 0-1.25-.557-1.25-1.25s.558-1.25 1.25-1.25a1.25 1.25 0 010 2.5zM12 8.668A3.336 3.336 0 0115.333 12 3.336 3.336 0 0112 15.334a3.336 3.336 0 01-3.334-3.333A3.336 3.336 0 0112 8.668zM7 12c0-2.76 2.24-5 5-5s5 2.24 5 5-2.24 5-5 5-5-2.24-5-5z\" fill=\"currentColor\" fill-rule=\"evenodd\"></path></svg></a></div></div><div class=\"flex flex-col md:flex-row\"><ul class=\"mb-8 mr-10\"><li class=\"mb-2 md:py-0 text-md\"><h4 class=\"font-bold\">For Candidates</h4></li><li class=\"mb-2 md:py-0 text-md\"><a class=\"!text-black hover:text-gtmblue-500 hover:underline\" href=\"/candidates/overview\">Overview</a></li><li class=\"mb-2 md:py-0 text-md\"><a class=\"styles_component__UCLp3 styles_defaultLink__eZMqw !text-black hover:text-gtmblue-500 hover:underline\" href=\"/jobs\">Startup Jobs</a></li><li class=\"mb-2 md:py-0 text-md\"><a class=\"styles_component__UCLp3 styles_defaultLink__eZMqw !text-black hover:text-gtmblue-500 hover:underline\" href=\"/web3\">Web3 Jobs</a></li><li class=\"mb-2 md:py-0 text-md\"><a class=\"!text-black hover:text-gtmblue-500 hover:underline\" href=\"/candidates/featured\">Featured</a></li><li class=\"mb-2 md:py-0 text-md\"><a class=\"styles_component__UCLp3 styles_defaultLink__eZMqw !text-black hover:text-gtmblue-500 hover:underline\" href=\"/hiring-data\">Startup Hiring Data</a></li><li class=\"mb-2 md:py-0 text-md\"><a class=\"styles_component__UCLp3 styles_defaultLink__eZMqw !text-black hover:text-gtmblue-500 hover:underline\" href=\"/startups\">Tech Startups</a></li><li class=\"mb-2 md:py-0 text-md\"><a class=\"!text-black hover:text-gtmblue-500 hover:underline\" href=\"/candidates/remote\">Remote</a></li></ul><ul class=\"mb-8 mr-10\"><li class=\"mb-2 md:py-0 text-md\"><h4 class=\"font-bold\">For Recruiters</h4></li><li class=\"mb-2 md:py-0 text-md\"><a class=\"!text-black hover:text-gtmblue-500 hover:underline\" href=\"/recruit/overview\">Overview</a></li><li class=\"mb-2 md:py-0 text-md\"><a class=\"!text-black hover:text-gtmblue-500 hover:underline\" href=\"/recruit/products/recruit-pro\">Recruit Pro</a></li><li class=\"mb-2 md:py-0 text-md\"><a class=\"!text-black hover:text-gtmblue-500 hover:underline\" href=\"/recruit/products/curated\">Curated</a></li><li class=\"mb-2 md:py-0 text-md\"><a class=\"!text-black hover:text-gtmblue-500 hover:underline\" href=\"/recruit/products/recruiter-cloud\">RecruiterCloud</a></li><li class=\"mb-2 md:py-0 text-md\"><a class=\"!text-black hover:text-gtmblue-500 hover:underline\" href=\"/hire\">Hire Developers</a></li><li class=\"mb-2 md:py-0 text-md\"><a class=\"!text-black hover:text-gtmblue-500 hover:underline\" href=\"/recruit/pricing\">Pricing</a></li></ul><ul class=\"mb-8 mr-10\"><li class=\"mb-2 md:py-0 text-md\"><h4 class=\"font-bold\">Company</h4></li><li class=\"mb-2 md:py-0 text-md\"><a class=\"!text-black hover:text-gtmblue-500 hover:underline\" href=\"https://wellfound.com\">About</a></li><li class=\"mb-2 md:py-0 text-md\"><a class=\"!text-black hover:text-gtmblue-500 hover:underline\" href=\"https://help.wellfound.com/\">Help</a></li><li class=\"mb-2 md:py-0 text-md\"><a class=\"!text-black hover:text-gtmblue-500 hover:underline\" href=\"/discover/blog\">Blog</a></li><li class=\"mb-2 md:py-0 text-md\"><a class=\"!text-black hover:text-gtmblue-500 hover:underline\" href=\"/terms\">Terms &amp; Risks</a></li><li class=\"mb-2 md:py-0 text-md\"><a class=\"!text-black hover:text-gtmblue-500 hover:underline\" href=\"/privacy\">Privacy &amp; Cookies</a></li></ul></div></div><div class=\"mt-4 flex flex-col-reverse justify-between lg:flex-row\"><p class=\"text-dark-aa\">Copyright © <!-- -->2024<!-- --> <!-- -->Wellfound<!-- --> (formerly AngelList Talent). All rights reserved.</p><p class=\"mb-4 text-dark-aa lg:mb-0\">Browse by:<!-- --> <a class=\"styles_component__UCLp3 styles_defaultLink__eZMqw !text-black hover:text-gtmblue-500 hover:underline underline text-dark-aa\" href=\"/browse/tech-jobs\">Jobs</a>,<!-- --> <a class=\"styles_component__UCLp3 styles_defaultLink__eZMqw !text-black hover:text-gtmblue-500 hover:underline underline text-dark-aa\" href=\"/browse/remote-tech-jobs\">Remote Jobs</a>,<!-- --> <a class=\"styles_component__UCLp3 styles_defaultLink__eZMqw !text-black hover:text-gtmblue-500 hover:underline underline text-dark-aa\" href=\"/browse/tech-job-locations\">Locations</a>,<!-- --> <a class=\"styles_component__UCLp3 styles_defaultLink__eZMqw !text-black hover:text-gtmblue-500 hover:underline underline text-dark-aa\" href=\"/browse/tech-startups\">Startups</a>,<!-- --> <a class=\"styles_component__UCLp3 styles_defaultLink__eZMqw !text-black hover:text-gtmblue-500 hover:underline underline text-dark-aa\" href=\"/browse/startups-hiring\">Startups Hiring</a>,<!-- --> <a class=\"styles_component__UCLp3 styles_defaultLink__eZMqw !text-black hover:text-gtmblue-500 hover:underline underline text-dark-aa\" href=\"/browse/tech-industries\">Industries</a>,<!-- --> <a class=\"styles_component__UCLp3 styles_defaultLink__eZMqw !text-black hover:text-gtmblue-500 hover:underline underline text-dark-aa\" href=\"/browse/tech-hubs\">Tech Hubs</a></p></div></footer></div></div><script>\n",
       "!function(){var analytics=window.analytics=window.analytics||[];if(!analytics.initialize)if(analytics.invoked)window.console&&console.error&&console.error(\"Segment snippet included twice.\");else{analytics.invoked=!0;analytics.methods=[\"trackSubmit\",\"trackClick\",\"trackLink\",\"trackForm\",\"pageview\",\"identify\",\"reset\",\"group\",\"track\",\"ready\",\"alias\",\"debug\",\"page\",\"once\",\"off\",\"on\",\"addSourceMiddleware\",\"addIntegrationMiddleware\",\"setAnonymousId\",\"addDestinationMiddleware\"];analytics.factory=function(e){return function(){var t=Array.prototype.slice.call(arguments);t.unshift(e);analytics.push(t);return analytics}};for(var e=0;e<analytics.methods.length;e++){var key=analytics.methods[e];analytics[key]=analytics.factory(key)}analytics.load=function(key,e){var t=document.createElement(\"script\");t.type=\"text/javascript\";t.async=!0;t.src=\"https://cdn.segment.com/analytics.js/v1/\" + key + \"/analytics.min.js\";var n=document.getElementsByTagName(\"script\")[0];n.parentNode.insertBefore(t,n);analytics._loadOptions=e};\n",
       "  analytics._writeKey=\"poTMRBHig2tYBNBP5P6kGfkGBFq19jmB\";\n",
       "  analytics.SNIPPET_VERSION=\"4.15.2\";\n",
       "  analytics.load(\"poTMRBHig2tYBNBP5P6kGfkGBFq19jmB\", {\"integrations\":{\"Amplitude\":false,\"Facebook Pixel\":false,\"Google AdWords New\":false,\"Hotjar\":false,\"LinkedIn Insight Tag\":true,\"Twitter Ads\":false}});\n",
       "}}();\n",
       "</script></body></html>"
      ]
     },
     "execution_count": 1,
     "metadata": {},
     "output_type": "execute_result"
    }
   ],
   "source": [
    "import requests\n",
    "from bs4 import BeautifulSoup\n",
    "\n",
    "URL = \"https://wellfound.com/jobs/2844964-lead-nlp-scientist\"\n",
    "user = \"padiv29003@konican.com\"\n",
    "password = \"kaggle786*\"\n",
    "page = requests.get(URL) #auth=(user , password))\n",
    "\n",
    "\n",
    "soup = BeautifulSoup(page.content, \"html.parser\")\n",
    "\n",
    "soup"
   ]
  },
  {
   "cell_type": "code",
   "execution_count": 2,
   "metadata": {},
   "outputs": [
    {
     "name": "stdout",
     "output_type": "stream",
     "text": [
      "<script type=\"application/ld+json\">{\"@context\":\"http://schema.org/\",\"@type\":\"JobPosting\",\"title\":\"Lead NLP Scientist\",\"identifier\":{\"@type\":\"PropertyValue\",\"name\":\"SproutsAI\",\"value\":\"2844964-lead-nlp-scientist\"},\"employmentType\":\"FULL_TIME\",\"hiringOrganization\":{\"@type\":\"Organization\",\"name\":\"SproutsAI\",\"sameAs\":\"https://www.sproutsai.com\",\"logo\":\"https://photos.wellfound.com/startups/i/6103237-24b07cc72114cfaa55d3862a2015f5ac-medium_jpg.jpg?buster=1669698116\"},\"validThrough\":\"2024-03-17T11:01:16Z\",\"image\":\"https://photos.wellfound.com/startups/i/6103237-24b07cc72114cfaa55d3862a2015f5ac-medium_jpg.jpg?buster=1669698116\",\"industry\":\"Artificial Intelligence\",\"directApply\":true,\"description\":\"<p>*<em>Position Summary *</em></p>\\n\\n<p>The NLP platform is the core virtual platform powering the vision of delivering the world’s best and fully autonomous intelligent agent to our users. The  person needs to be passionate about NLP to helps in building the platform  from the ground up. Join us in the early stage and you will have an enormous opportunity to make a massive impact on the design, architecture, and implementation of the platform, to power thousands of companies and millions of customers across the globe.</p>\\n\\n<p>As part of the startup, you will also have the additional opportunity of working directly with the customers and the executive team.</p>\\n\\n<p>Minimum Qualifications</p>\\n\\n<ul>\\n<li>An NLP Expert, ideally a Ph D in NLP, with several years of experience in  building and shipping  NLP and AI products for the enterprise customers</li>\\n<li>The position requires building next generation of AI Agent. The person needs to have hands-on development experience in C++, Python and other programming language.</li>\\n<li>The person should be expert in building, training, evaluation and deployment of AI models.</li>\\n<li>The strong background in math, statistics is a plus.</li>\\n<li>The person should be passionate about building and growing an startup.  This job requires passionate individuals who are self motivated, can challenge themself   and thrive under the pressure.</li>\\n<li>Excellent oral and written communication skills.</li>\\n</ul>\\n\\n<p>*<em>Preferred Qualifications *</em></p>\\n\\n<ul>\\n<li>Strong attention to detail and exceptional level of organization</li>\\n<li>Hands-on expertise in many disparate technologies and the full model lifecycle, typically ranging from data pipelines, data extraction, model training, model serving, labeling tools, ML-ops, ad-hoc tooling and all points in between.</li>\\n<li>MS/PhD in a relevant field (Machine Learning, Computer Science, Engineering, Mathematics, Physics, Statistics or a related field)</li>\\n</ul>\\n<p>SproutsAI focuses on Artificial Intelligence. Their company has offices in San Francisco Bay Area. They have a small team that&#39;s between 11-50 employees. To date, SproutsAI has raised $1M of funding; their latest round was closed on June 2022.</p>\\n<p>You can view their website at <a target=\\\"_blank\\\" rel=\\\"nofollow noopener noreferrer\\\" href=\\\"https://www.sproutsai.com\\\">https://www.sproutsai.com</a>  or find them on <a target=\\\"_blank\\\" rel=\\\"nofollow noopener noreferrer\\\" href=\\\"https://www.linkedin.com/company/sproutsintellibot/\\\">LinkedIn</a>.</p>\",\"datePosted\":\"2024-01-20T02:24:23Z\",\"jobLocation\":{\"@type\":\"Place\",\"address\":{\"@type\":\"PostalAddress\",\"addressLocality\":\"Edinburgh\",\"addressRegion\":\"Scotland\",\"addressCountry\":\"United Kingdom\"},\"latitude\":55.9533,\"longitude\":-3.18827},\"jobLocationType\":\"TELECOMMUTE\",\"applicantLocationRequirements\":{\"@type\":\"Country\",\"name\":\"Anywhere\"},\"experienceRequirements\":{\"@type\":\"OccupationalExperienceRequirements\",\"monthsOfExperience\":60},\"baseSalary\":{\"@type\":\"MonetaryAmount\",\"currency\":\"USD\",\"value\":{\"@type\":\"QuantitativeValue\",\"unitText\":\"YEAR\",\"minValue\":30000.0,\"maxValue\":100000.0}}}</script>\n"
     ]
    }
   ],
   "source": [
    "for tag in soup.find_all('script', type='application/ld+json'):\n",
    "    print(tag)"
   ]
  },
  {
   "cell_type": "code",
   "execution_count": 3,
   "metadata": {},
   "outputs": [
    {
     "data": {
      "text/plain": [
       "'<script type=\"application/ld+json\">{\"@context\":\"http://schema.org/\",\"@type\":\"JobPosting\",\"title\":\"Lead NLP Scientist\",\"identifier\":{\"@type\":\"PropertyValue\",\"name\":\"SproutsAI\",\"value\":\"2844964-lead-nlp-scientist\"},\"employmentType\":\"FULL_TIME\",\"hiringOrganization\":{\"@type\":\"Organization\",\"name\":\"SproutsAI\",\"sameAs\":\"https://www.sproutsai.com\",\"logo\":\"https://photos.wellfound.com/startups/i/6103237-24b07cc72114cfaa55d3862a2015f5ac-medium_jpg.jpg?buster=1669698116\"},\"validThrough\":\"2024-03-17T11:01:16Z\",\"image\":\"https://photos.wellfound.com/startups/i/6103237-24b07cc72114cfaa55d3862a2015f5ac-medium_jpg.jpg?buster=1669698116\",\"industry\":\"Artificial Intelligence\",\"directApply\":true,\"description\":\"<p>*<em>Position Summary *</em></p>\\\\n\\\\n<p>The NLP platform is the core virtual platform powering the vision of delivering the world’s best and fully autonomous intelligent agent to our users. The  person needs to be passionate about NLP to helps in building the platform  from the ground up. Join us in the early stage and you will have an enormous opportunity to make a massive impact on the design, architecture, and implementation of the platform, to power thousands of companies and millions of customers across the globe.</p>\\\\n\\\\n<p>As part of the startup, you will also have the additional opportunity of working directly with the customers and the executive team.</p>\\\\n\\\\n<p>Minimum Qualifications</p>\\\\n\\\\n<ul>\\\\n<li>An NLP Expert, ideally a Ph D in NLP, with several years of experience in  building and shipping  NLP and AI products for the enterprise customers</li>\\\\n<li>The position requires building next generation of AI Agent. The person needs to have hands-on development experience in C++, Python and other programming language.</li>\\\\n<li>The person should be expert in building, training, evaluation and deployment of AI models.</li>\\\\n<li>The strong background in math, statistics is a plus.</li>\\\\n<li>The person should be passionate about building and growing an startup.  This job requires passionate individuals who are self motivated, can challenge themself   and thrive under the pressure.</li>\\\\n<li>Excellent oral and written communication skills.</li>\\\\n</ul>\\\\n\\\\n<p>*<em>Preferred Qualifications *</em></p>\\\\n\\\\n<ul>\\\\n<li>Strong attention to detail and exceptional level of organization</li>\\\\n<li>Hands-on expertise in many disparate technologies and the full model lifecycle, typically ranging from data pipelines, data extraction, model training, model serving, labeling tools, ML-ops, ad-hoc tooling and all points in between.</li>\\\\n<li>MS/PhD in a relevant field (Machine Learning, Computer Science, Engineering, Mathematics, Physics, Statistics or a related field)</li>\\\\n</ul>\\\\n<p>SproutsAI focuses on Artificial Intelligence. Their company has offices in San Francisco Bay Area. They have a small team that&#39;s between 11-50 employees. To date, SproutsAI has raised $1M of funding; their latest round was closed on June 2022.</p>\\\\n<p>You can view their website at <a target=\\\\\"_blank\\\\\" rel=\\\\\"nofollow noopener noreferrer\\\\\" href=\\\\\"https://www.sproutsai.com\\\\\">https://www.sproutsai.com</a>  or find them on <a target=\\\\\"_blank\\\\\" rel=\\\\\"nofollow noopener noreferrer\\\\\" href=\\\\\"https://www.linkedin.com/company/sproutsintellibot/\\\\\">LinkedIn</a>.</p>\",\"datePosted\":\"2024-01-20T02:24:23Z\",\"jobLocation\":{\"@type\":\"Place\",\"address\":{\"@type\":\"PostalAddress\",\"addressLocality\":\"Edinburgh\",\"addressRegion\":\"Scotland\",\"addressCountry\":\"United Kingdom\"},\"latitude\":55.9533,\"longitude\":-3.18827},\"jobLocationType\":\"TELECOMMUTE\",\"applicantLocationRequirements\":{\"@type\":\"Country\",\"name\":\"Anywhere\"},\"experienceRequirements\":{\"@type\":\"OccupationalExperienceRequirements\",\"monthsOfExperience\":60},\"baseSalary\":{\"@type\":\"MonetaryAmount\",\"currency\":\"USD\",\"value\":{\"@type\":\"QuantitativeValue\",\"unitText\":\"YEAR\",\"minValue\":30000.0,\"maxValue\":100000.0}}}</script>'"
      ]
     },
     "execution_count": 3,
     "metadata": {},
     "output_type": "execute_result"
    }
   ],
   "source": [
    "str(tag)"
   ]
  },
  {
   "cell_type": "code",
   "execution_count": 4,
   "metadata": {},
   "outputs": [
    {
     "name": "stdout",
     "output_type": "stream",
     "text": [
      "{\"@context\":\"http://schema.org/\",\"@type\":\"JobPosting\",\"title\":\"Lead NLP Scientist\",\"identifier\":{\"@type\":\"PropertyValue\",\"name\":\"SproutsAI\",\"value\":\"2844964-lead-nlp-scientist\"},\"employmentType\":\"FULL_TIME\",\"hiringOrganization\":{\"@type\":\"Organization\",\"name\":\"SproutsAI\",\"sameAs\":\"https://www.sproutsai.com\",\"logo\":\"https://photos.wellfound.com/startups/i/6103237-24b07cc72114cfaa55d3862a2015f5ac-medium_jpg.jpg?buster=1669698116\"},\"validThrough\":\"2024-03-17T11:01:16Z\",\"image\":\"https://photos.wellfound.com/startups/i/6103237-24b07cc72114cfaa55d3862a2015f5ac-medium_jpg.jpg?buster=1669698116\",\"industry\":\"Artificial Intelligence\",\"directApply\":true,\"description\":\"<p>*<em>Position Summary *</em></p>\\n\\n<p>The NLP platform is the core virtual platform powering the vision of delivering the world’s best and fully autonomous intelligent agent to our users. The  person needs to be passionate about NLP to helps in building the platform  from the ground up. Join us in the early stage and you will have an enormous opportunity to make a massive impact on the design, architecture, and implementation of the platform, to power thousands of companies and millions of customers across the globe.</p>\\n\\n<p>As part of the startup, you will also have the additional opportunity of working directly with the customers and the executive team.</p>\\n\\n<p>Minimum Qualifications</p>\\n\\n<ul>\\n<li>An NLP Expert, ideally a Ph D in NLP, with several years of experience in  building and shipping  NLP and AI products for the enterprise customers</li>\\n<li>The position requires building next generation of AI Agent. The person needs to have hands-on development experience in C++, Python and other programming language.</li>\\n<li>The person should be expert in building, training, evaluation and deployment of AI models.</li>\\n<li>The strong background in math, statistics is a plus.</li>\\n<li>The person should be passionate about building and growing an startup.  This job requires passionate individuals who are self motivated, can challenge themself   and thrive under the pressure.</li>\\n<li>Excellent oral and written communication skills.</li>\\n</ul>\\n\\n<p>*<em>Preferred Qualifications *</em></p>\\n\\n<ul>\\n<li>Strong attention to detail and exceptional level of organization</li>\\n<li>Hands-on expertise in many disparate technologies and the full model lifecycle, typically ranging from data pipelines, data extraction, model training, model serving, labeling tools, ML-ops, ad-hoc tooling and all points in between.</li>\\n<li>MS/PhD in a relevant field (Machine Learning, Computer Science, Engineering, Mathematics, Physics, Statistics or a related field)</li>\\n</ul>\\n<p>SproutsAI focuses on Artificial Intelligence. Their company has offices in San Francisco Bay Area. They have a small team that&#39;s between 11-50 employees. To date, SproutsAI has raised $1M of funding; their latest round was closed on June 2022.</p>\\n<p>You can view their website at <a target=\\\"_blank\\\" rel=\\\"nofollow noopener noreferrer\\\" href=\\\"https://www.sproutsai.com\\\">https://www.sproutsai.com</a>  or find them on <a target=\\\"_blank\\\" rel=\\\"nofollow noopener noreferrer\\\" href=\\\"https://www.linkedin.com/company/sproutsintellibot/\\\">LinkedIn</a>.</p>\",\"datePosted\":\"2024-01-20T02:24:23Z\",\"jobLocation\":{\"@type\":\"Place\",\"address\":{\"@type\":\"PostalAddress\",\"addressLocality\":\"Edinburgh\",\"addressRegion\":\"Scotland\",\"addressCountry\":\"United Kingdom\"},\"latitude\":55.9533,\"longitude\":-3.18827},\"jobLocationType\":\"TELECOMMUTE\",\"applicantLocationRequirements\":{\"@type\":\"Country\",\"name\":\"Anywhere\"},\"experienceRequirements\":{\"@type\":\"OccupationalExperienceRequirements\",\"monthsOfExperience\":60},\"baseSalary\":{\"@type\":\"MonetaryAmount\",\"currency\":\"USD\",\"value\":{\"@type\":\"QuantitativeValue\",\"unitText\":\"YEAR\",\"minValue\":30000.0,\"maxValue\":100000.0}}}\n"
     ]
    }
   ],
   "source": [
    "import re\n",
    "JSON = re.compile(r\"({.*})\", re.DOTALL)\n",
    "\n",
    "matches = JSON.search(str(tag))\n",
    "\n",
    "print(matches.group(1))"
   ]
  },
  {
   "cell_type": "code",
   "execution_count": 5,
   "metadata": {},
   "outputs": [
    {
     "name": "stdout",
     "output_type": "stream",
     "text": [
      "{'@context': 'http://schema.org/', '@type': 'JobPosting', 'title': 'Lead NLP Scientist', 'identifier': {'@type': 'PropertyValue', 'name': 'SproutsAI', 'value': '2844964-lead-nlp-scientist'}, 'employmentType': 'FULL_TIME', 'hiringOrganization': {'@type': 'Organization', 'name': 'SproutsAI', 'sameAs': 'https://www.sproutsai.com', 'logo': 'https://photos.wellfound.com/startups/i/6103237-24b07cc72114cfaa55d3862a2015f5ac-medium_jpg.jpg?buster=1669698116'}, 'validThrough': '2024-03-17T11:01:16Z', 'image': 'https://photos.wellfound.com/startups/i/6103237-24b07cc72114cfaa55d3862a2015f5ac-medium_jpg.jpg?buster=1669698116', 'industry': 'Artificial Intelligence', 'directApply': True, 'description': '<p>*<em>Position Summary *</em></p>\\n\\n<p>The NLP platform is the core virtual platform powering the vision of delivering the world’s best and fully autonomous intelligent agent to our users. The  person needs to be passionate about NLP to helps in building the platform  from the ground up. Join us in the early stage and you will have an enormous opportunity to make a massive impact on the design, architecture, and implementation of the platform, to power thousands of companies and millions of customers across the globe.</p>\\n\\n<p>As part of the startup, you will also have the additional opportunity of working directly with the customers and the executive team.</p>\\n\\n<p>Minimum Qualifications</p>\\n\\n<ul>\\n<li>An NLP Expert, ideally a Ph D in NLP, with several years of experience in  building and shipping  NLP and AI products for the enterprise customers</li>\\n<li>The position requires building next generation of AI Agent. The person needs to have hands-on development experience in C++, Python and other programming language.</li>\\n<li>The person should be expert in building, training, evaluation and deployment of AI models.</li>\\n<li>The strong background in math, statistics is a plus.</li>\\n<li>The person should be passionate about building and growing an startup.  This job requires passionate individuals who are self motivated, can challenge themself   and thrive under the pressure.</li>\\n<li>Excellent oral and written communication skills.</li>\\n</ul>\\n\\n<p>*<em>Preferred Qualifications *</em></p>\\n\\n<ul>\\n<li>Strong attention to detail and exceptional level of organization</li>\\n<li>Hands-on expertise in many disparate technologies and the full model lifecycle, typically ranging from data pipelines, data extraction, model training, model serving, labeling tools, ML-ops, ad-hoc tooling and all points in between.</li>\\n<li>MS/PhD in a relevant field (Machine Learning, Computer Science, Engineering, Mathematics, Physics, Statistics or a related field)</li>\\n</ul>\\n<p>SproutsAI focuses on Artificial Intelligence. Their company has offices in San Francisco Bay Area. They have a small team that&#39;s between 11-50 employees. To date, SproutsAI has raised $1M of funding; their latest round was closed on June 2022.</p>\\n<p>You can view their website at <a target=\"_blank\" rel=\"nofollow noopener noreferrer\" href=\"https://www.sproutsai.com\">https://www.sproutsai.com</a>  or find them on <a target=\"_blank\" rel=\"nofollow noopener noreferrer\" href=\"https://www.linkedin.com/company/sproutsintellibot/\">LinkedIn</a>.</p>', 'datePosted': '2024-01-20T02:24:23Z', 'jobLocation': {'@type': 'Place', 'address': {'@type': 'PostalAddress', 'addressLocality': 'Edinburgh', 'addressRegion': 'Scotland', 'addressCountry': 'United Kingdom'}, 'latitude': 55.9533, 'longitude': -3.18827}, 'jobLocationType': 'TELECOMMUTE', 'applicantLocationRequirements': {'@type': 'Country', 'name': 'Anywhere'}, 'experienceRequirements': {'@type': 'OccupationalExperienceRequirements', 'monthsOfExperience': 60}, 'baseSalary': {'@type': 'MonetaryAmount', 'currency': 'USD', 'value': {'@type': 'QuantitativeValue', 'unitText': 'YEAR', 'minValue': 30000.0, 'maxValue': 100000.0}}}\n"
     ]
    }
   ],
   "source": [
    "import json\n",
    "jsondata = json.loads(matches.group(1))\n",
    "print(jsondata)"
   ]
  },
  {
   "cell_type": "code",
   "execution_count": 6,
   "metadata": {},
   "outputs": [
    {
     "name": "stdout",
     "output_type": "stream",
     "text": [
      "Lead NLP Scientist\n",
      "Artificial Intelligence\n",
      "Edinburgh, United Kingdom\n"
     ]
    }
   ],
   "source": [
    "print(jsondata[\"title\"])\n",
    "print(jsondata[\"industry\"])\n",
    "print(jsondata[\"jobLocation\"][\"address\"][\"addressLocality\"] + \", \" +jsondata[\"jobLocation\"][\"address\"][\"addressCountry\"])\n"
   ]
  },
  {
   "cell_type": "code",
   "execution_count": 7,
   "metadata": {},
   "outputs": [
    {
     "data": {
      "text/plain": [
       "[<li>An NLP Expert, ideally a Ph D in NLP, with several years of experience in  building and shipping  NLP and AI products for the enterprise customers</li>,\n",
       " <li>The position requires building next generation of AI Agent. The person needs to have hands-on development experience in C++, Python and other programming language.</li>,\n",
       " <li>The person should be expert in building, training, evaluation and deployment of AI models.</li>,\n",
       " <li>The strong background in math, statistics is a plus.</li>,\n",
       " <li>The person should be passionate about building and growing an startup.  This job requires passionate individuals who are self motivated, can challenge themself   and thrive under the pressure.</li>,\n",
       " <li>Excellent oral and written communication skills.</li>,\n",
       " <li>Strong attention to detail and exceptional level of organization</li>,\n",
       " <li>Hands-on expertise in many disparate technologies and the full model lifecycle, typically ranging from data pipelines, data extraction, model training, model serving, labeling tools, ML-ops, ad-hoc tooling and all points in between.</li>,\n",
       " <li>MS/PhD in a relevant field (Machine Learning, Computer Science, Engineering, Mathematics, Physics, Statistics or a related field)</li>]"
      ]
     },
     "execution_count": 7,
     "metadata": {},
     "output_type": "execute_result"
    }
   ],
   "source": [
    "soup = BeautifulSoup(jsondata[\"description\"], \"html.parser\")\n",
    "soup.find_all(\"li\",string=True )"
   ]
  },
  {
   "cell_type": "code",
   "execution_count": 8,
   "metadata": {},
   "outputs": [
    {
     "name": "stdout",
     "output_type": "stream",
     "text": [
      "['An NLP Expert, ideally a Ph D in NLP, with several years of experience in  building and shipping  NLP and AI products for the enterprise customers', 'MS/PhD in a relevant field (Machine Learning, Computer Science, Engineering, Mathematics, Physics, Statistics or a related field)'] ['The position requires building next generation of AI Agent. The person needs to have hands-on development experience in C++, Python and other programming language.', 'The person should be expert in building, training, evaluation and deployment of AI models.', 'The strong background in math, statistics is a plus.', 'The person should be passionate about building and growing an startup.  This job requires passionate individuals who are self motivated, can challenge themself   and thrive under the pressure.', 'Excellent oral and written communication skills.', 'Strong attention to detail and exceptional level of organization', 'Hands-on expertise in many disparate technologies and the full model lifecycle, typically ranging from data pipelines, data extraction, model training, model serving, labeling tools, ML-ops, ad-hoc tooling and all points in between.']\n"
     ]
    }
   ],
   "source": [
    "qualification= []\n",
    "education = []\n",
    "for line in soup.find_all(\"li\" ):\n",
    "    if any(degree in line.text for degree in [\"Bachelor\", \"bachelors\",\"MS\" ,\"M.S.\" , \"Ph D\", \"PhD\", \"Ph.D\"]):\n",
    "        education.append(line.text)\n",
    "    else:\n",
    "        qualification.append(line.text)\n",
    "print(education,qualification)"
   ]
  },
  {
   "cell_type": "code",
   "execution_count": 9,
   "metadata": {},
   "outputs": [
    {
     "data": {
      "text/plain": [
       "'<script type=\"application/ld+json\">\\n {\"@context\":\"http://schema.org/\",\"@type\":\"JobPosting\",\"title\":\"Lead NLP Scientist\",\"identifier\":{\"@type\":\"PropertyValue\",\"name\":\"SproutsAI\",\"value\":\"2844964-lead-nlp-scientist\"},\"employmentType\":\"FULL_TIME\",\"hiringOrganization\":{\"@type\":\"Organization\",\"name\":\"SproutsAI\",\"sameAs\":\"https://www.sproutsai.com\",\"logo\":\"https://photos.wellfound.com/startups/i/6103237-24b07cc72114cfaa55d3862a2015f5ac-medium_jpg.jpg?buster=1669698116\"},\"validThrough\":\"2024-03-17T11:01:16Z\",\"image\":\"https://photos.wellfound.com/startups/i/6103237-24b07cc72114cfaa55d3862a2015f5ac-medium_jpg.jpg?buster=1669698116\",\"industry\":\"Artificial Intelligence\",\"directApply\":true,\"description\":\"<p>*<em>Position Summary *</em></p>\\\\n\\\\n<p>The NLP platform is the core virtual platform powering the vision of delivering the world’s best and fully autonomous intelligent agent to our users. The  person needs to be passionate about NLP to helps in building the platform  from the ground up. Join us in the early stage and you will have an enormous opportunity to make a massive impact on the design, architecture, and implementation of the platform, to power thousands of companies and millions of customers across the globe.</p>\\\\n\\\\n<p>As part of the startup, you will also have the additional opportunity of working directly with the customers and the executive team.</p>\\\\n\\\\n<p>Minimum Qualifications</p>\\\\n\\\\n<ul>\\\\n<li>An NLP Expert, ideally a Ph D in NLP, with several years of experience in  building and shipping  NLP and AI products for the enterprise customers</li>\\\\n<li>The position requires building next generation of AI Agent. The person needs to have hands-on development experience in C++, Python and other programming language.</li>\\\\n<li>The person should be expert in building, training, evaluation and deployment of AI models.</li>\\\\n<li>The strong background in math, statistics is a plus.</li>\\\\n<li>The person should be passionate about building and growing an startup.  This job requires passionate individuals who are self motivated, can challenge themself   and thrive under the pressure.</li>\\\\n<li>Excellent oral and written communication skills.</li>\\\\n</ul>\\\\n\\\\n<p>*<em>Preferred Qualifications *</em></p>\\\\n\\\\n<ul>\\\\n<li>Strong attention to detail and exceptional level of organization</li>\\\\n<li>Hands-on expertise in many disparate technologies and the full model lifecycle, typically ranging from data pipelines, data extraction, model training, model serving, labeling tools, ML-ops, ad-hoc tooling and all points in between.</li>\\\\n<li>MS/PhD in a relevant field (Machine Learning, Computer Science, Engineering, Mathematics, Physics, Statistics or a related field)</li>\\\\n</ul>\\\\n<p>SproutsAI focuses on Artificial Intelligence. Their company has offices in San Francisco Bay Area. They have a small team that&#39;s between 11-50 employees. To date, SproutsAI has raised $1M of funding; their latest round was closed on June 2022.</p>\\\\n<p>You can view their website at <a target=\\\\\"_blank\\\\\" rel=\\\\\"nofollow noopener noreferrer\\\\\" href=\\\\\"https://www.sproutsai.com\\\\\">https://www.sproutsai.com</a>  or find them on <a target=\\\\\"_blank\\\\\" rel=\\\\\"nofollow noopener noreferrer\\\\\" href=\\\\\"https://www.linkedin.com/company/sproutsintellibot/\\\\\">LinkedIn</a>.</p>\",\"datePosted\":\"2024-01-20T02:24:23Z\",\"jobLocation\":{\"@type\":\"Place\",\"address\":{\"@type\":\"PostalAddress\",\"addressLocality\":\"Edinburgh\",\"addressRegion\":\"Scotland\",\"addressCountry\":\"United Kingdom\"},\"latitude\":55.9533,\"longitude\":-3.18827},\"jobLocationType\":\"TELECOMMUTE\",\"applicantLocationRequirements\":{\"@type\":\"Country\",\"name\":\"Anywhere\"},\"experienceRequirements\":{\"@type\":\"OccupationalExperienceRequirements\",\"monthsOfExperience\":60},\"baseSalary\":{\"@type\":\"MonetaryAmount\",\"currency\":\"USD\",\"value\":{\"@type\":\"QuantitativeValue\",\"unitText\":\"YEAR\",\"minValue\":30000.0,\"maxValue\":100000.0}}}\\n</script>\\n'"
      ]
     },
     "execution_count": 9,
     "metadata": {},
     "output_type": "execute_result"
    }
   ],
   "source": [
    "tag.prettify()"
   ]
  },
  {
   "cell_type": "code",
   "execution_count": 26,
   "metadata": {},
   "outputs": [],
   "source": [
    "import pdfplumber\n",
    "\n",
    "resume = \"\"\n",
    "with pdfplumber.open('RiyajMuhammad_CV.pdf') as pdf:\n",
    "    totalpages = len(pdf.pages)\n",
    "    for i in range(0 ,totalpages):\n",
    "        page1= pdf.pages[i]\n",
    "        resume = resume + \"\\n\" +page1.extract_text()\n",
    "    "
   ]
  },
  {
   "cell_type": "code",
   "execution_count": 35,
   "metadata": {},
   "outputs": [
    {
     "data": {
      "text/plain": [
       "'\\nRIYAJ MUHAMMAD\\n+91 8109602633 | riyajtech@gmail.com | LinkedIn | GitHub | Kaggle | Chhatarpur ,MP, India(471001)\\nEDUCATION\\nBachelors of Technology in Biotechnology engineering,\\nNational Institute of Technology (NIT), Raipur May 2021\\nEXPERIENCE\\nResearch Engineer (ML) November 2021- Present\\nGenpro Research (Catalyst Research), Trivandrum, India\\n• Led ML research of end to end microservices for semi-automated medical document\\nauthoring platform MaiA and develop POCs for client display. Major pharmaceutical and\\nbiotechnology companies uses platform, achieving 70% time reduction.\\n• Conceptualized and developed a project for US based client to automate SDS Time & Event\\nsheet extraction from a Neo4j knowledge graph, resulting an impressive 0.75 F1 score.\\n• Designed and build microservices for summarization ,paraphrasing and document\\nfiltering(0.82 ROC AUC score) using Azure translation API, GPT3, LLama v2, Bert,\\nDebertaV3 and Zephyr 7b beta.\\n• Created custom data collection pipeline for each micro-service. These micro-services\\nincreases productivity around 60%.\\n• Created summarization pipeline for tables boosted productivity by 50%.\\n• Conducted in-house upskilling sessions on ML, NLP and NLG techniques to enhance\\nawareness and minimize communication gap on ML technologies within team reduced meeting\\ntime by 40%.\\n• Deployed in-house GGUF and GPTQ quantized language models LLMs on Azure GPU and\\nCPU servers. Successfully replaced OpenAI ,achieved 80% cost reduction.\\nData Science Intern August 2021- November 2021\\nVerse Innovation , Bangalore, India\\n• Participated in internal training sessions focused on diverse Machine Learning and\\nNatural language processing techniques.\\n• Collaborated in content classification pipeline.\\nCOMPETITIONS\\nKaggle LLM Science Exam | Kaggle Platform July 2023- October 2023\\n• 223rd rank out of 2664 participant.\\nUniversity of Liverpool – Ion Switching | Kaggle Platform February 2020- May 2020\\n• 160th rank out of 2600 participant.\\nA Fine Windy Day: Hacker-Earth ML Challenge | HackerEarth Platform February 2020- May 2020\\n• 15th rank out of 2100 participant.\\nACHIEVEMENTS\\n2023 Kaggle Expert Competition Category\\n2023 KaggleX mentee KaggleX BIPOC mentorship Program\\n2022 Genpro Research Employee of month\\n2021 Kaggle Expert Discussion Category\\nSKILLS\\nML Models\\nBert, Roberta, Deberta, LLamaV2 7B & 13B, Zephyr 7B beta, GPT3, XGBoost, Random Forrest\\nProgramming & Technologies\\nPython ,PyTorch ,Scikit-learn ,Seaborn ,Numpy ,Pandas ,Huggingface ,FastAPI ,Regex ,Streamlit\\n,MySQL ,Neo4j ,Git, Spacy, Quantization, APIs, Text Generation Inference, vLLM, LLama.cpp, RAG\\nCOURSEWORK\\nUNDERGRADUATE\\nBioinformatics, Database Management Systems, Genomics ,Proteomics ,Management Science,\\nMathematics, Phylogenetic ,IP Rights\\nCOURSERA\\nPython Data Structures by University of Michigan, Neural Networks and Deep Learning,\\nImproving Deep Neural Networks: Hyperparameter Tuning, Regularization and Optimization,\\nStructuring Machine Learning Projects, Convolution Neural Networks, Sequence Models,\\nData Visualization, SQL, Neo4j'"
      ]
     },
     "execution_count": 35,
     "metadata": {},
     "output_type": "execute_result"
    }
   ],
   "source": [
    "re.sub(\"(\\n{2,4})\", \"\\n\", str(resume))"
   ]
  },
  {
   "cell_type": "code",
   "execution_count": 34,
   "metadata": {},
   "outputs": [
    {
     "name": "stdout",
     "output_type": "stream",
     "text": [
      "------------------------split-------------------------------------\n",
      "\n",
      "------------------------split-------------------------------------\n",
      "------------------------split-------------------------------------\n",
      "\n",
      "RIYAJ MUHAMMAD\n",
      "\n",
      "------------------------split-------------------------------------\n",
      "------------------------split-------------------------------------\n",
      "+91 8109602633 | riyajtech@gmail.com | LinkedIn | GitHub | Kaggle | Chhatarpur ,MP, India(471001)\n",
      "------------------------split-------------------------------------\n",
      "------------------------split-------------------------------------\n",
      "\n",
      "EDUCATION\n",
      "\n",
      "------------------------split-------------------------------------\n",
      "------------------------split-------------------------------------\n",
      "Bachelors of Technology in Biotechnology engineering,\n",
      "National Institute of Technology (NIT), Raipur May 2021\n",
      "------------------------split-------------------------------------\n",
      "------------------------split-------------------------------------\n",
      "\n",
      "EXPERIENCE\n",
      "\n",
      "------------------------split-------------------------------------\n",
      "------------------------split-------------------------------------\n",
      "Research Engineer (ML) November 2021- Present\n",
      "Genpro Research (Catalyst Research), Trivandrum, India\n",
      "• Led ML research of end to end microservices for semi-automated medical document\n",
      "authoring platform MaiA and develop POCs for client display. Major pharmaceutical and\n",
      "biotechnology companies uses platform, achieving 70% time reduction.\n",
      "• Conceptualized and developed a project for US based client to automate SDS Time & Event\n",
      "sheet extraction from a Neo4j knowledge graph, resulting an impressive 0.75 F1 score.\n",
      "• Designed and build microservices for summarization ,paraphrasing and document\n",
      "filtering(0.82 ROC AUC score) using Azure translation API, GPT3, LLama v2, Bert,\n",
      "DebertaV3 and Zephyr 7b beta.\n",
      "• Created custom data collection pipeline for each micro-service. These micro-services\n",
      "increases productivity around 60%.\n",
      "• Created summarization pipeline for tables boosted productivity by 50%.\n",
      "• Conducted in-house upskilling sessions on ML, NLP and NLG techniques to enhance\n",
      "awareness and minimize communication gap on ML technologies within team reduced meeting\n",
      "time by 40%.\n",
      "• Deployed in-house GGUF and GPTQ quantized language models LLMs on Azure GPU and\n",
      "CPU servers. Successfully replaced OpenAI ,achieved 80% cost reduction.\n",
      "Data Science Intern August 2021- November 2021\n",
      "Verse Innovation , Bangalore, India\n",
      "• Participated in internal training sessions focused on diverse Machine Learning and\n",
      "Natural language processing techniques.\n",
      "• Collaborated in content classification pipeline.\n",
      "------------------------split-------------------------------------\n",
      "------------------------split-------------------------------------\n",
      "\n",
      "COMPETITIONS\n",
      "\n",
      "------------------------split-------------------------------------\n",
      "------------------------split-------------------------------------\n",
      "Kaggle LLM Science Exam | Kaggle Platform July 2023- October 2023\n",
      "• 223rd rank out of 2664 participant.\n",
      "University of Liverpool – Ion Switching | Kaggle Platform February 2020- May 2020\n",
      "• 160th rank out of 2600 participant.\n",
      "A Fine Windy Day: Hacker-Earth ML Challenge | HackerEarth Platform February 2020- May 2020\n",
      "• 15th rank out of 2100 participant.\n",
      "------------------------split-------------------------------------\n",
      "------------------------split-------------------------------------\n",
      "\n",
      "ACHIEVEMENTS\n",
      "\n",
      "------------------------split-------------------------------------\n",
      "------------------------split-------------------------------------\n",
      "2023 Kaggle Expert Competition Category\n",
      "2023 KaggleX mentee KaggleX BIPOC mentorship Program\n",
      "2022 Genpro Research Employee of month\n",
      "2021 Kaggle Expert Discussion Category\n",
      "------------------------split-------------------------------------\n",
      "------------------------split-------------------------------------\n",
      "\n",
      "SKILLS\n",
      "\n",
      "------------------------split-------------------------------------\n",
      "------------------------split-------------------------------------\n",
      "ML Models\n",
      "Bert, Roberta, Deberta, LLamaV2 7B & 13B, Zephyr 7B beta, GPT3, XGBoost, Random Forrest\n",
      "Programming & Technologies\n",
      "Python ,PyTorch ,Scikit-learn ,Seaborn ,Numpy ,Pandas ,Huggingface ,FastAPI ,Regex ,Streamlit\n",
      ",MySQL ,Neo4j ,Git, Spacy, Quantization, APIs, Text Generation Inference, vLLM, LLama.cpp, RAG\n",
      "------------------------split-------------------------------------\n",
      "------------------------split-------------------------------------\n",
      "\n",
      "COURSEWORK\n",
      "\n",
      "------------------------split-------------------------------------\n",
      "------------------------split-------------------------------------\n",
      "UNDERGRADUATE\n",
      "Bioinformatics, Database Management Systems, Genomics ,Proteomics ,Management Science,\n",
      "Mathematics, Phylogenetic ,IP Rights\n",
      "------------------------split-------------------------------------\n",
      "------------------------split-------------------------------------\n",
      "\n",
      "COURSERA\n",
      "\n",
      "------------------------split-------------------------------------\n",
      "------------------------split-------------------------------------\n",
      "Python Data Structures by University of Michigan, Neural Networks and Deep Learning,\n",
      "Improving Deep Neural Networks: Hyperparameter Tuning, Regularization and Optimization,\n",
      "Structuring Machine Learning Projects, Convolution Neural Networks, Sequence Models,\n",
      "Data Visualization, SQL, Neo4j\n",
      "------------------------split-------------------------------------\n"
     ]
    }
   ],
   "source": [
    "import re\n",
    "JSON = re.compile(r\"(\\n[A-Z ]{5,20}\\n)\", re.DOTALL)\n",
    "\n",
    "matches = JSON.split(re.sub(\"(\\n{2,4})\", \"\\n\", str(resume)))\n",
    "education = \"\" \n",
    "for i in range(0,len(matches)):\n",
    "    print(\"------------------------split-------------------------------------\")\n",
    "    print(matches[i])\n",
    "    print(\"------------------------split-------------------------------------\")"
   ]
  },
  {
   "cell_type": "code",
   "execution_count": 20,
   "metadata": {},
   "outputs": [],
   "source": [
    "def get_location(stri):\n",
    "    for line in stri.splitlines():\n",
    "        print(line)"
   ]
  },
  {
   "cell_type": "code",
   "execution_count": null,
   "metadata": {},
   "outputs": [],
   "source": []
  },
  {
   "cell_type": "code",
   "execution_count": 21,
   "metadata": {},
   "outputs": [
    {
     "name": "stdout",
     "output_type": "stream",
     "text": [
      "------------------------split-------------------------------------\n",
      "0\n",
      "------------------------split-------------------------------------\n",
      "------------------------split-------------------------------------\n",
      "1\n",
      "------------------------split-------------------------------------\n",
      "------------------------split-------------------------------------\n",
      "2\n",
      "------------------------split-------------------------------------\n",
      "------------------------split-------------------------------------\n",
      "3\n",
      "------------------------split-------------------------------------\n",
      "------------------------split-------------------------------------\n",
      "4\n",
      "------------------------split-------------------------------------\n",
      "Research Engineer (ML) November 2021- Present\n",
      "Genpro Research (Catalyst Research), Trivandrum, India\n",
      "• Led ML research of end to end microservices for semi-automated medical document\n",
      "authoring platform MaiA and develop POCs for client display. Major pharmaceutical and\n",
      "biotechnology companies uses platform, achieving 70% time reduction.\n",
      "• Conceptualized and developed a project for US based client to automate SDS Time & Event\n",
      "sheet extraction from a Neo4j knowledge graph, resulting an impressive 0.75 F1 score.\n",
      "• Designed and build microservices for summarization ,paraphrasing and document\n",
      "filtering(0.82 ROC AUC score) using Azure translation API, GPT3, LLama v2, Bert,\n",
      "DebertaV3 and Zephyr 7b beta.\n",
      "• Created custom data collection pipeline for each micro-service. These micro-services\n",
      "increases productivity around 60%.\n",
      "• Created summarization pipeline for tables boosted productivity by 50%.\n",
      "• Conducted in-house upskilling sessions on ML, NLP and NLG techniques to enhance\n",
      "awareness and minimize communication gap on ML technologies within team reduced meeting\n",
      "time by 40%.\n",
      "• Deployed in-house GGUF and GPTQ quantized language models LLMs on Azure GPU and\n",
      "CPU servers. Successfully replaced OpenAI ,achieved 80% cost reduction.\n",
      "Data Science Intern August 2021- November 2021\n",
      "Verse Innovation , Bangalore, India\n",
      "• Participated in internal training sessions focused on diverse Machine Learning and\n",
      "Natural language processing techniques.\n",
      "• Collaborated in content classification pipeline.\n",
      "------------------------split-------------------------------------\n",
      "5\n",
      "------------------------split-------------------------------------\n",
      "------------------------split-------------------------------------\n",
      "6\n",
      "------------------------split-------------------------------------\n",
      "------------------------split-------------------------------------\n",
      "7\n",
      "------------------------split-------------------------------------\n",
      "------------------------split-------------------------------------\n",
      "8\n",
      "------------------------split-------------------------------------\n",
      "------------------------split-------------------------------------\n",
      "9\n",
      "------------------------split-------------------------------------\n",
      "------------------------split-------------------------------------\n",
      "10\n",
      "------------------------split-------------------------------------\n",
      "------------------------split-------------------------------------\n",
      "11\n",
      "------------------------split-------------------------------------\n",
      "------------------------split-------------------------------------\n",
      "12\n",
      "------------------------split-------------------------------------\n",
      "------------------------split-------------------------------------\n",
      "13\n",
      "------------------------split-------------------------------------\n",
      "------------------------split-------------------------------------\n",
      "14\n",
      "------------------------split-------------------------------------\n",
      "------------------------split-------------------------------------\n",
      "15\n",
      "------------------------split-------------------------------------\n",
      "------------------------split-------------------------------------\n",
      "16\n",
      "------------------------split-------------------------------------\n"
     ]
    }
   ],
   "source": [
    "import re\n",
    "JSON = re.compile(r\"(\\n[A-Z ]{5,20}\\n)\", re.DOTALL)\n",
    "\n",
    "matches = JSON.split(str(resume))\n",
    "education = \"\" \n",
    "for i in range(0,len(matches)):\n",
    "    if \"EDUCATION\" in matches[i]:\n",
    "        education = matches[i+1]\n",
    "    elif \"EXPERIENCE\" in matches[i]:\n",
    "        job_title_location = matches[i+1]\n",
    "        location_and_tile = get_location(job_title_location)\n",
    "    \n",
    "    print(\"------------------------split-------------------------------------\")\n",
    "    print(i)\n",
    "    print(\"------------------------split-------------------------------------\")"
   ]
  },
  {
   "cell_type": "code",
   "execution_count": 22,
   "metadata": {},
   "outputs": [],
   "source": [
    "def get_location(stri):\n",
    "    for line in string.splitlines():\n",
    "        print(\"\"\"Research Engineer (ML) November 2021- Present\n",
    "Genpro Research (Catalyst Research), Trivandrum, India\n",
    "• Led ML research of end to end microservices for semi-automated medical document\"\"\")\n",
    "\n"
   ]
  }
 ],
 "metadata": {
  "kernelspec": {
   "display_name": "projects-LHpi1DA4",
   "language": "python",
   "name": "python3"
  },
  "language_info": {
   "codemirror_mode": {
    "name": "ipython",
    "version": 3
   },
   "file_extension": ".py",
   "mimetype": "text/x-python",
   "name": "python",
   "nbconvert_exporter": "python",
   "pygments_lexer": "ipython3",
   "version": "3.11.7"
  }
 },
 "nbformat": 4,
 "nbformat_minor": 2
}
